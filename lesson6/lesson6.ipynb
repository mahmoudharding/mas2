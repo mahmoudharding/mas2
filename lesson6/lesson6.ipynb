{
  "cells": [
    {
      "cell_type": "markdown",
      "source": [
        "## The Constant Model\n",
        "\n"
      ],
      "metadata": {
        "cell_id": "b4281723a7074b90a772da50857dec90",
        "deepnote_cell_type": "markdown",
        "id": "nd2mvlR61tKN"
      }
    },
    {
      "cell_type": "markdown",
      "source": [
        "<div class=\"alert alert-block alert-info\"><b>Student Note:</b> This notebook is intended to introduce students the R programming language. We'll explore a dataset that contains information about resteraunt bills and tips. The <code>tips</code> data set was created by Michael Waskom - the creator of the <code>seaborn python</code> data visualisation package. According to the <code>tips</code> dataset documentation, the <code>tips</code> dataset is a data frame with 244 rows and 7 variables which represents some tipping data where one waiter recorded information about each tip he received over a period of a few months working in one restaurant. In all the waiter recorded 244 tips. The data was reported in a collection of case studies for business statistics <a href = \"https://sebastiansauer.github.io/data/tips-help.pdf\">(Bryant & Smith 1995)</a>. The waiter collected several variables: The tip in dollars, the bill in dollars, the sex of the bill payer, whether there were smokers in the party, the day of the week, the time of day and the size of the party.\n",
        "\n",
        "**Note:** The variable tip percent was added for this activity.\n",
        "\n",
        "<br>In this notebook, you will...\n",
        "<li>Learn basic commands in the R programming language </li><li>Calculate summary statistics from a dataframe </li><li>Create various types of data visualizations</li></div>"
      ],
      "metadata": {
        "cell_id": "346c7a71718548709dfc98e903994274",
        "deepnote_cell_type": "markdown",
        "id": "1qI2y2yg1tKO"
      }
    },
    {
      "cell_type": "code",
      "source": [
        "## Run this code but do not edit it. Hit Ctrl+Enter to run the code.\n",
        "# This command downloads and installs a useful package of R\n",
        "# commands for constructing visualizations\n",
        "install.packages(\"ggformula\", quiet = TRUE, verbose = FALSE)\n",
        "\n",
        "# This command loads useful packages of R commands into your\n",
        "# notebook for manipulating data and constructing visualizations\n",
        "suppressPackageStartupMessages({\n",
        "  library(dplyr)\n",
        "  library(ggplot2)\n",
        "  library(ggformula)\n",
        "})\n",
        "\n",
        "# This command sets the theme for the visualizations in\n",
        "# this notebook\n",
        "theme_set(\n",
        "  theme_light() +\n",
        "  theme(\n",
        "    panel.background = element_rect(fill = \"white\", colour = \"white\"),\n",
        "    plot.background = element_blank(),\n",
        "    axis.line = element_line(color = \"black\")\n",
        "  )\n",
        ")"
      ],
      "metadata": {
        "cell_id": "0a3c344241924231be1a4a10bbe91cf6",
        "source_hash": "c414c8a0",
        "execution_start": 1681706462356,
        "execution_millis": 10,
        "deepnote_to_be_reexecuted": false,
        "deepnote_cell_type": "code",
        "id": "ItA57s8M1tKO"
      },
      "outputs": [],
      "execution_count": null
    },
    {
      "cell_type": "code",
      "source": [
        "### 1.0 - Exploring the dataset"
      ],
      "metadata": {
        "cell_id": "51d037df0bc245eaa7f235320825dca9",
        "deepnote_cell_type": "code",
        "id": "lXDtLmAe1tKP"
      },
      "outputs": [],
      "execution_count": null
    },
    {
      "cell_type": "markdown",
      "source": [
        "To begin, let's load our data. Our full data set is included in a file named `tips.csv`.\n",
        "\n",
        "The <code>tips</code> data set was created by Michael Waskom - the creator of the <code>seaborn python</code> data visualisation package. According to the <code>tips</code> dataset documentation, the <code>tips</code> dataset is a data frame with 244 rows and 7 variables which represents some tipping data where one waiter recorded information about each tip he received over a period of a few months working in one restaurant. In all the waiter recorded 244 tips. The data was reported in a collection of case studies for business statistics <a href = \"https://sebastiansauer.github.io/data/tips-help.pdf\">(Bryant & Smith 1995)</a>. The waiter collected several variables: The tip in dollars, the bill in dollars, the sex of the bill payer, whether there were smokers in the party, the day of the week, the time of day and the size of the party.\n",
        "\n",
        "The command below loads the data from the file and stores it into an R dataframe object called `dat`."
      ],
      "metadata": {
        "cell_id": "95496de9fc0f4bc39c7d53d231f628f8",
        "deepnote_cell_type": "markdown",
        "id": "gklj0R9X1tKP"
      }
    },
    {
      "cell_type": "code",
      "source": [
        "## Run this code but do not edit it\n",
        "# This command saves the tips.csv to a dataframe\n",
        "url <- 'https://raw.githubusercontent.com/mahmoudharding/mas2/main/lesson6/data/tips.csv'\n",
        "dat <- read.csv(url)"
      ],
      "metadata": {
        "cell_id": "a085873ade724f3cbb5dd2f8f6a16847",
        "source_hash": "c9273af7",
        "execution_start": 1682600495952,
        "execution_millis": 6,
        "deepnote_to_be_reexecuted": false,
        "deepnote_cell_type": "code",
        "id": "o9SWWH4h1tKP"
      },
      "outputs": [],
      "execution_count": null
    },
    {
      "cell_type": "markdown",
      "source": [
        "To get a quick view of the first 6 rows in the `dat` dataframe, we can use the `head` function.\n",
        "\n",
        "Functions in R work a lot  like functions in math. You enter the name of the function (in this case `head`), then you provide an input for the function to use (in this case our dataframe `dat`) and then you get the results of the command."
      ],
      "metadata": {
        "cell_id": "9dc93260de744d69941e5bfa09f901db",
        "deepnote_cell_type": "markdown",
        "id": "ziCC-6Zf1tKP"
      }
    },
    {
      "cell_type": "code",
      "source": [
        "## Run this code but do not edit it. Hit Ctrl+Enter to run the code.\n",
        "# This command prints out the first several rows of the dataset\n",
        "head(dat)"
      ],
      "metadata": {
        "cell_id": "6ac3f8bf1a2e4ca9b4b916e45f17de26",
        "source_hash": "ba36e682",
        "execution_start": 1681706462435,
        "execution_millis": 46,
        "deepnote_to_be_reexecuted": false,
        "deepnote_cell_type": "code",
        "id": "9QjnlYO41tKP"
      },
      "outputs": [],
      "execution_count": null
    },
    {
      "cell_type": "markdown",
      "source": [
        "The vertical columns of the dataframe are called `variables`, and their elements are called `values`. For example, the variable `smoker` has values `Yes` or `No`.\n",
        "\n",
        "The horizontal rows of the dataframe are called `observations`. For example, the first observation is a customer that had a total bill of \\$16.99 and left a tip amount of \\$1.01 (which is about 6\\%)."
      ],
      "metadata": {
        "cell_id": "0ea5771981c7415b9fd92c6666632c9e",
        "deepnote_cell_type": "markdown",
        "id": "bZmVdn6e1tKQ"
      }
    },
    {
      "cell_type": "markdown",
      "source": [
        "**Question 1.1 -** Of the variables displayed, identify one that is quantitative and one that is categorical."
      ],
      "metadata": {
        "cell_id": "73821852b59d4513a9d885aac6b0190a",
        "deepnote_cell_type": "markdown",
        "id": "YvaZknvJ1tKQ"
      }
    },
    {
      "cell_type": "markdown",
      "source": [
        "**Double-click this cell to type your answer here:**"
      ],
      "metadata": {
        "cell_id": "e393ce1cf06549b79a2d0ce3fc9b9cb0",
        "deepnote_cell_type": "markdown",
        "id": "-l_58gXo1tKQ"
      }
    },
    {
      "cell_type": "markdown",
      "source": [
        "The `head` command only displays several rows of the dataframe. To see the full dimensions of the dataframe, we can use the `dim` command.\n",
        "\n",
        "**Question 1.2 -** Use the `dim` command on `dat` to display the dimensions of the dataframe."
      ],
      "metadata": {
        "cell_id": "6644f0e39f8c4da08bd099f89883621f",
        "deepnote_cell_type": "markdown",
        "id": "Xlm0ksGU1tKQ"
      }
    },
    {
      "cell_type": "code",
      "source": [
        "## Display the dimensions of a dataframe\n",
        "# Type your response below this line"
      ],
      "metadata": {
        "cell_id": "d17edfc504944bd78057576075d263b5",
        "source_hash": "7b1c7b82",
        "execution_start": 1681706462480,
        "execution_millis": 0,
        "deepnote_to_be_reexecuted": false,
        "deepnote_cell_type": "code",
        "id": "8HxuxnCq1tKQ"
      },
      "outputs": [],
      "execution_count": null
    },
    {
      "cell_type": "markdown",
      "source": [
        "The first number outputted by dim is the number of horizontal rows in the dataframe. This represents the number of observations (number of bills). The second number is the number of vertical columns in the dataframe. This represents the number of variables. What are all these variables? Here's a full description of each of them (as well as some background information on the data):"
      ],
      "metadata": {
        "cell_id": "f14c1e60b18e4f63a0d147abdc778ecc",
        "deepnote_cell_type": "markdown",
        "id": "oav1lQt-1tKQ"
      }
    },
    {
      "cell_type": "markdown",
      "source": [
        "#### The Dataset\n",
        " Food servers’ tips in restaurants may be influenced by many factors, including the nature of the restaurant, size of the party, and table locations in the restaurant. Restaurant managers need to know which factors matter when they assign tables to food servers. For the sake of staff morale, they usually want to avoid either the substance or the appearance of unfair treatment of the servers, for whom tips (at least in restaurants in the United States) are a major component of pay.\n",
        "\n",
        "In one restaurant, a food server recorded the following data on all customers they served during an interval of two and a half months in early 1990. The restaurant, located in a suburban shopping mall, was part of a national chain and served a varied menu. In observance of local law, the restaurant offered to seat in a non-smoking section to patrons who requested it. Each record includes a day and time, and taken together, they show the server’s work schedule.\n",
        "\n",
        "##### Variables\n",
        "- `total_bill` - The amount of the total bill\n",
        "- `tip` - The ampount of the tip\n",
        "- `tip_percent` - The percent of the tip rounded to the nearest whole number\n",
        "- `smoker` - Whether or not the customer smoked (Yes or No)\n",
        "- `day` - The day of the week (Thursday, Friday, Saturday, or Sunday)\n",
        "- `time` - The type of meal (Lunch or Dinner)\n",
        "- `size` - The number of people in the group"
      ],
      "metadata": {
        "cell_id": "3811d6a991724b60ac07bf22e09122df",
        "deepnote_cell_type": "markdown",
        "id": "gH6BCjIy1tKQ"
      }
    },
    {
      "cell_type": "markdown",
      "source": [
        "We'll only work with only a few variables at a time. In the following code, we use the `select` command to select only the variables `total_bill`, `tip`, `tip_percent`, `day` and `time` and save them in a new dataframe called `example_dat`."
      ],
      "metadata": {
        "cell_id": "1a5cf4401335456d9b56b00cf3f308c3",
        "deepnote_cell_type": "markdown",
        "id": "B05-imJN1tKQ"
      }
    },
    {
      "cell_type": "code",
      "source": [
        "## Run this code by do not edit it\n",
        "# Select certain columns from dat, store into example_dat\n",
        "example_dat <- select(dat, total_bill, tip, tip_percent, day, time)\n",
        "\n",
        "# Display head of example_dat\n",
        "head(example_dat)"
      ],
      "metadata": {
        "cell_id": "56928404e13d43979364084bd0ab2e9c",
        "source_hash": "2d589d0a",
        "execution_start": 1681706462479,
        "execution_millis": 4,
        "deepnote_to_be_reexecuted": false,
        "deepnote_cell_type": "code",
        "id": "mMAOWVkb1tKQ"
      },
      "outputs": [],
      "execution_count": null
    },
    {
      "cell_type": "markdown",
      "source": [
        "**Question 1.3 -** Use the `select` command on to select the variables `total_bill`, `tip_percent`, `day` and `time` from `dat`. Store your new dataframe in an object called `my_dat` and display its head."
      ],
      "metadata": {
        "cell_id": "8ea992834d484a89ad7126234ff5fd3b",
        "deepnote_cell_type": "markdown",
        "id": "7Lr1DWSf1tKQ"
      }
    },
    {
      "cell_type": "code",
      "source": [
        "## Select certain columns from dat, store into my_dat\n",
        "# Type your response below this line\n",
        "\n",
        "\n",
        "## Display head of my_dat\n",
        "# Type your response below this line\n"
      ],
      "metadata": {
        "cell_id": "0644283bf0a54a34922fe74bb0a03909",
        "source_hash": "6669627e",
        "execution_start": 1681706462522,
        "execution_millis": 1,
        "deepnote_to_be_reexecuted": false,
        "deepnote_cell_type": "code",
        "id": "wJYgvi6S1tKQ"
      },
      "outputs": [],
      "execution_count": null
    },
    {
      "cell_type": "markdown",
      "source": [
        "In addition to filtering out columns (variables), we can also filter out rows (observations). For example, if I only wanted to analyze receipts for lunches that have an total bill lower than 20 dollars, and occurred on Friday, I can use the `subset` command on `example_dat` like this:"
      ],
      "metadata": {
        "cell_id": "326730e34b3248c2a1a589e0c97f67b7",
        "deepnote_cell_type": "markdown",
        "id": "wrbQjRw11tKQ"
      }
    },
    {
      "cell_type": "code",
      "source": [
        "## Run this code but do not edit it\n",
        "# Subset example_dat to only lunches that have a total bill of less than 20 dollars\n",
        "subset(example_dat, time == \"Lunch\" & total_bill < 20 & day == \"Fri\")"
      ],
      "metadata": {
        "cell_id": "1d9e404ac4254c74aeeff2b27ff85c10",
        "source_hash": "ca6346cc",
        "execution_start": 1681706462577,
        "execution_millis": 19,
        "deepnote_to_be_reexecuted": false,
        "deepnote_cell_type": "code",
        "id": "BYWdXoSd1tKQ"
      },
      "outputs": [],
      "execution_count": null
    },
    {
      "cell_type": "markdown",
      "source": [
        "A total of seven observations fit these conditions.\n",
        "\n",
        "Note that R has different conventions for comparative statements. For example...\n",
        "- `==` means `equals exactly`\n",
        "- `!=` means `does not equal`\n",
        "- `<` means `less than`\n",
        "- `>` means `greater than`\n",
        "- `<=` means `less than or equal to`\n",
        "- `>=` means `greater than or equal to`\n",
        "\n",
        "Here are some other common conditional symbols\n",
        "- `|` means `or`\n",
        "- `&` means `and`"
      ],
      "metadata": {
        "cell_id": "f36cde5b2fce4300bbf6eab568bb0ef5",
        "deepnote_cell_type": "markdown",
        "id": "xyGQofm81tKR"
      }
    },
    {
      "cell_type": "markdown",
      "source": [
        "**Question 1.4 -** Use the `subset` command to find the bills in `my_dat` that were more than 40 dollars and occurred during dinner."
      ],
      "metadata": {
        "cell_id": "e7130cdc80424a1b93095b9430aa5dbd",
        "deepnote_cell_type": "markdown",
        "id": "RkoTLxIV1tKR"
      }
    },
    {
      "cell_type": "code",
      "source": [
        "## Subset my_dat to large lunch bills on Thursday\n",
        "# Type your response below this line\n"
      ],
      "metadata": {
        "cell_id": "8dd3a5466483401eadbe1175f6096533",
        "source_hash": "b2518d",
        "execution_start": 1681706462637,
        "execution_millis": 7,
        "deepnote_to_be_reexecuted": false,
        "deepnote_cell_type": "code",
        "id": "UYbXu2RW1tKR"
      },
      "outputs": [],
      "execution_count": null
    },
    {
      "cell_type": "markdown",
      "source": [
        "**Question 1.5 -** What do you notice about the observations that fit your selection criteria? What do you wonder?"
      ],
      "metadata": {
        "cell_id": "1b299e90248448b2bf33b5b051f8a4f5",
        "deepnote_cell_type": "markdown",
        "id": "8VcQf1cC1tKR"
      }
    },
    {
      "cell_type": "markdown",
      "source": [
        "**Double-click this cell to type your answer here:**"
      ],
      "metadata": {
        "cell_id": "789496db892a40b5beb96fe854397c4a",
        "deepnote_cell_type": "markdown",
        "id": "tk7lRbFY1tKR"
      }
    },
    {
      "cell_type": "markdown",
      "source": [
        "Another way to explore a dataset is to reorder its observations. For example, we can use the `arrange` command to order the observations in `example_dat` by their total bill:"
      ],
      "metadata": {
        "cell_id": "4a8b696abd654af580b649725d281a33",
        "deepnote_cell_type": "markdown",
        "id": "k5Olt13R1tKR"
      }
    },
    {
      "cell_type": "code",
      "source": [
        "## Run this code but do not edit it\n",
        "# Arrange data in order of their total bill\n",
        "arrange(example_dat, total_bill)"
      ],
      "metadata": {
        "cell_id": "80ea0d046c33495992b34b1403c08eaa",
        "source_hash": "5ebefd30",
        "execution_start": 1681706462637,
        "execution_millis": 39,
        "deepnote_to_be_reexecuted": false,
        "deepnote_cell_type": "code",
        "id": "ViHoKA9f1tKR"
      },
      "outputs": [],
      "execution_count": null
    },
    {
      "cell_type": "markdown",
      "source": [
        "You may be wondering what is the largest bill, when did it occur, how much was the tip, etc ... To arrange the data in descending order of total bill (highest total bill on top), we can use the `desc` argument within our `arrange` command:"
      ],
      "metadata": {
        "cell_id": "141979876ea14f0b8dcef739e5244d47",
        "deepnote_cell_type": "markdown",
        "id": "5XoHiAkS1tKR"
      }
    },
    {
      "cell_type": "code",
      "source": [
        "## Run this code but do not edit it\n",
        "# Arrange data in descending order of their total bill\n",
        "arrange(example_dat, desc(total_bill))"
      ],
      "metadata": {
        "cell_id": "edc0a869eaf74527b91c25e274f958e2",
        "source_hash": "4e31e215",
        "execution_start": 1681706462716,
        "execution_millis": 23,
        "deepnote_to_be_reexecuted": false,
        "deepnote_cell_type": "code",
        "id": "hsbwQiZ11tKR"
      },
      "outputs": [],
      "execution_count": null
    },
    {
      "cell_type": "markdown",
      "source": [
        "**Question 1.6 -** Use the `arrange` command to organize the bills in `my_dat` such that the total bills with the highest tip percentages are at the top."
      ],
      "metadata": {
        "cell_id": "7fded18d0e424c829dd2f645b8a0a2e4",
        "deepnote_cell_type": "markdown",
        "id": "WO9EzQE71tKR"
      }
    },
    {
      "cell_type": "code",
      "source": [
        "## Arrange data in descending order of their default rates\n",
        "# Type your response below this line\n"
      ],
      "metadata": {
        "cell_id": "8b8099efac844538b1874b3c65f1b7de",
        "source_hash": "dbf97db0",
        "execution_start": 1681706462778,
        "execution_millis": 8,
        "deepnote_to_be_reexecuted": false,
        "deepnote_cell_type": "code",
        "id": "vz1mQeta1tKR"
      },
      "outputs": [],
      "execution_count": null
    },
    {
      "cell_type": "markdown",
      "source": [
        "### 2.0 - Finding summary statistics"
      ],
      "metadata": {
        "cell_id": "2dcbf81a7bd74cec9d3455138bb9787c",
        "deepnote_cell_type": "markdown",
        "id": "2KF_VXM71tKR"
      }
    },
    {
      "cell_type": "markdown",
      "source": [
        "When analyzing variables of interest, it's often helpful to calculate summary statistics. For quantitative variables, we can use the `summary` command to find the five-number summary (minimum, Q1, median, Q3, maximum) and the average (mean) of the values. The code block shows how we find these summary statistics for the `total_bill` variable.\n",
        "\n",
        "**Note:** The `$` sign in R is used to isolate a single variable (`total_bill`) from a dataframe (`dat`)."
      ],
      "metadata": {
        "cell_id": "d282f3ca01d64ebaab5050fe647adb16",
        "deepnote_cell_type": "markdown",
        "id": "N3xMoCGR1tKR"
      }
    },
    {
      "cell_type": "code",
      "source": [
        "## Run this code but do not edit it\n",
        "# Find summary statistics for total bill\n",
        "summary(dat$total_bill)"
      ],
      "metadata": {
        "cell_id": "c5c4ef6db8de4f24a38222e658eff1db",
        "source_hash": "529523e0",
        "execution_start": 1681706462831,
        "execution_millis": 1,
        "deepnote_to_be_reexecuted": false,
        "deepnote_cell_type": "code",
        "id": "Two4QcD01tKR"
      },
      "outputs": [],
      "execution_count": null
    },
    {
      "cell_type": "markdown",
      "source": [
        "**Question 2.1 -** Use the `summary` command to get summary statistics for the `tip_percent` variable in the `dat` dataframe."
      ],
      "metadata": {
        "cell_id": "472188a0d752465f89d1097e6a98b6a5",
        "deepnote_cell_type": "markdown",
        "id": "0Znailm31tKS"
      }
    },
    {
      "cell_type": "code",
      "source": [
        "## Find summary statistics for tip_percent\n",
        "# Type your response below this line\n"
      ],
      "metadata": {
        "cell_id": "65c832a6b74a401caede7697837a98b6",
        "source_hash": "44e91029",
        "execution_start": 1681706462831,
        "execution_millis": 3,
        "deepnote_to_be_reexecuted": false,
        "deepnote_cell_type": "code",
        "id": "e1ex--UI1tKS"
      },
      "outputs": [],
      "execution_count": null
    },
    {
      "cell_type": "markdown",
      "source": [
        "**Question 2.2 -** Comment on what these summary statistics reveal about the `tip_percent` values in our dataset."
      ],
      "metadata": {
        "cell_id": "2eaf3000694c4475b3d0547ff5a2f004",
        "deepnote_cell_type": "markdown",
        "id": "NwpKO_fA1tKS"
      }
    },
    {
      "cell_type": "markdown",
      "source": [
        "**Double-click this cell to type your answer here:**"
      ],
      "metadata": {
        "cell_id": "5264be72c1744d648f758f9d0a170a41",
        "deepnote_cell_type": "markdown",
        "id": "A6oZckJk1tKS"
      }
    },
    {
      "cell_type": "markdown",
      "source": [
        "For categorical data, it doesn't make sense to find means and medians. Instead, it's helpful to look at value counts and proportions. We can use the `table` command to find the counts of the different values for `time`:"
      ],
      "metadata": {
        "cell_id": "947d597c65634bb88ca583fb67c027e9",
        "deepnote_cell_type": "markdown",
        "id": "Sm3jqReI1tKY"
      }
    },
    {
      "cell_type": "code",
      "source": [
        "## Run this code but do not edit it\n",
        "# Find counts of values for day\n",
        "day_counts <- table(dat$day)\n",
        "day_counts"
      ],
      "metadata": {
        "cell_id": "78e8368fc98a4e9698cfbe609f66e584",
        "source_hash": "95758f60",
        "execution_start": 1681706462877,
        "execution_millis": 1,
        "deepnote_to_be_reexecuted": false,
        "deepnote_cell_type": "code",
        "id": "LFV3P22E1tKY"
      },
      "outputs": [],
      "execution_count": null
    },
    {
      "cell_type": "markdown",
      "source": [
        "87 of the bills in our dataset occurred on Saturday. On the other end of the spectrum, 19 occurred on Friday.\n",
        "\n",
        "To get a better sense of scale, we can turn these raw counts into proportions by dividing them by the total:"
      ],
      "metadata": {
        "cell_id": "f647fc254749437e97d4aa1077eb9014",
        "deepnote_cell_type": "markdown",
        "id": "QQNoMevg1tKY"
      }
    },
    {
      "cell_type": "code",
      "source": [
        "## Run this code but do not edit it\n",
        "# Get total by summing of all counts in table\n",
        "total <- sum(day_counts)\n",
        "total"
      ],
      "metadata": {
        "cell_id": "a759cfd487374e3ebe2bd482738e0db4",
        "source_hash": "bd50610e",
        "execution_start": 1681706462877,
        "execution_millis": 1,
        "deepnote_to_be_reexecuted": false,
        "deepnote_cell_type": "code",
        "id": "uG5Rdd7P1tKY"
      },
      "outputs": [],
      "execution_count": null
    },
    {
      "cell_type": "code",
      "source": [
        "## Run this code but do not edit it\n",
        "# Divide table by total to get proportions\n",
        "day_counts / total"
      ],
      "metadata": {
        "cell_id": "b74ec6b61b734e07977d7f98132b20e0",
        "source_hash": "cc4518af",
        "execution_start": 1681706462877,
        "execution_millis": 17,
        "deepnote_to_be_reexecuted": false,
        "deepnote_cell_type": "code",
        "id": "MyuShMra1tKZ"
      },
      "outputs": [],
      "execution_count": null
    },
    {
      "cell_type": "markdown",
      "source": [
        "As you can see, you can use R just like a calculator. Addition, subtraction, multiplication, division ... it's all there. The results show that most of the meals in our dataset happened on Saturday. They make up about 36% of all the bills in our dataset. These are about 5 times more prevalent in our dataset than meals that occurred on Friday."
      ],
      "metadata": {
        "cell_id": "30105f4df1ac421e8733f0b54f98659b",
        "deepnote_cell_type": "markdown",
        "id": "nS4cn9yh1tKZ"
      }
    },
    {
      "cell_type": "markdown",
      "source": [
        "**Question 2.3 -** Use the `table` command to get the value counts for the `time` variable."
      ],
      "metadata": {
        "cell_id": "22d8590ec5ec453b876140e6b4bbae5f",
        "deepnote_cell_type": "markdown",
        "id": "__UYA0Es1tKZ"
      }
    },
    {
      "cell_type": "code",
      "source": [
        "## Find value counts for the time variable\n",
        "# Type your response below this line\n",
        "\n",
        "time_counts"
      ],
      "metadata": {
        "cell_id": "36e0dc6dd9e3488b8d91d834d9b1b4f5",
        "source_hash": "7cbab896",
        "execution_start": 1681706462895,
        "execution_millis": 7,
        "deepnote_to_be_reexecuted": false,
        "deepnote_cell_type": "code",
        "id": "9FvpY3dh1tKZ"
      },
      "outputs": [],
      "execution_count": null
    },
    {
      "cell_type": "markdown",
      "source": [
        "**Question 2.4 -** Find and comment on the proportion of all meal types - dinner and lunch."
      ],
      "metadata": {
        "cell_id": "cf5b0d534cea4f12a13eb86c943b6529",
        "deepnote_cell_type": "markdown",
        "id": "_8nlMHWc1tKZ"
      }
    },
    {
      "cell_type": "code",
      "source": [
        "## Get total by summing of all counts in table\n",
        "# Type your response below this line\n",
        "\n",
        "\n",
        "## Get proportions for time by dividing table by total\n",
        "# Type your response below this line\n"
      ],
      "metadata": {
        "cell_id": "b270a4052130473c88020fb74f4e91eb",
        "source_hash": "82fb8d4c",
        "execution_start": 1681706462902,
        "execution_millis": 12,
        "deepnote_to_be_reexecuted": false,
        "deepnote_cell_type": "code",
        "id": "zYvbnxCs1tKZ"
      },
      "outputs": [],
      "execution_count": null
    },
    {
      "cell_type": "markdown",
      "source": [
        "### 3.0 - Visualizing data (histograms, barplots, and boxplots)"
      ],
      "metadata": {
        "cell_id": "16fadb0469624b9ba6b8b0b12cae9d8f",
        "deepnote_cell_type": "markdown",
        "id": "BjszMRPq1tKZ"
      }
    },
    {
      "cell_type": "markdown",
      "source": [
        "In addition to summary statistics, a great way to get an overall impression of our data is to visualize it. In this section, we'll walk through different types of visualizations we can create in R.\n",
        "\n",
        "**Note:** We're going to save scatterplots for the next notebook later in the course.\n",
        "\n",
        "One of the most useful visualizations for displaying a quantitative variable is a histogram. Here, we use the gf_histogram command to display the histogram for admit_rate."
      ],
      "metadata": {
        "cell_id": "42a3b727656748e7aaa0b19d0dbbde87",
        "deepnote_cell_type": "markdown",
        "id": "LfB9rm-m1tKZ"
      }
    },
    {
      "cell_type": "code",
      "source": [
        "## Run this code but do not edit it\n",
        "# Create histogram for total bill\n",
        "gf_histogram(~total_bill, data = dat, fill = 'turquoise', color = 'black')"
      ],
      "metadata": {
        "cell_id": "82f8cb7ec3524b17b7dd8c5e103b90f5",
        "source_hash": "57a9dec6",
        "execution_start": 1681706462909,
        "execution_millis": 485,
        "deepnote_to_be_reexecuted": false,
        "deepnote_cell_type": "code",
        "id": "-y7F_fnD1tKZ"
      },
      "outputs": [],
      "execution_count": null
    },
    {
      "cell_type": "markdown",
      "source": [
        "As we suspected from the summary statistics, it appears that most bills are between 13 and 25 dollars, we call this distribution **right skew**, since there's a tail on the right side. So, total bills that are more than 30 dollars are relatively unusual compared to most of the other total bills in our dataset."
      ],
      "metadata": {
        "cell_id": "17e0d58f25a940ab8dbe866a67df022f",
        "deepnote_cell_type": "markdown",
        "id": "NIrhhqCe1tKZ"
      }
    },
    {
      "cell_type": "markdown",
      "source": [
        "**Question 3.1 -** Create a histogram to visualize all the `tip_percent` values in the `dat` dataframe.\n"
      ],
      "metadata": {
        "cell_id": "969f1cfbfb4d4cff9efb357b545624ff",
        "deepnote_cell_type": "markdown",
        "id": "dptPjI5c1tKZ"
      }
    },
    {
      "cell_type": "code",
      "source": [
        "## Create histogram for tip_percent\n",
        "# Type your response below this line\n"
      ],
      "metadata": {
        "cell_id": "8d749e87300c42caa253749d38a76716",
        "source_hash": "b2c84d31",
        "execution_start": 1681706463393,
        "execution_millis": 317,
        "deepnote_to_be_reexecuted": false,
        "deepnote_cell_type": "code",
        "id": "mjabMR7z1tKZ"
      },
      "outputs": [],
      "execution_count": null
    },
    {
      "cell_type": "markdown",
      "source": [
        "**Question 3.2 -** Describe the distribution and note any features of interest."
      ],
      "metadata": {
        "cell_id": "21c2da6283dd4d298a4ac690495bbf26",
        "deepnote_cell_type": "markdown",
        "id": "ZHBuszcS1tKZ"
      }
    },
    {
      "cell_type": "markdown",
      "source": [
        "**Double-click this cell to type your answer here:**"
      ],
      "metadata": {
        "cell_id": "c81e94094052431ba6af7b6e4196e4fd",
        "deepnote_cell_type": "markdown",
        "id": "ej-JGrUU1tKZ"
      }
    },
    {
      "cell_type": "markdown",
      "source": [
        "To visualize categorical variables, we can use the `gf_bar` command to make bar plots. Here we create a bar plot for day:"
      ],
      "metadata": {
        "cell_id": "deff85f80670410bbdf233f65378b8c5",
        "deepnote_cell_type": "markdown",
        "id": "SZaQ8JZ61tKZ"
      }
    },
    {
      "cell_type": "code",
      "source": [
        "## Run this code but do not edit it\n",
        "# Create bar plot for day\n",
        "gf_bar(~day, data = dat, fill = 'turquoise', color = 'black')"
      ],
      "metadata": {
        "cell_id": "60539702279a4262802d55eb7fea8d8f",
        "source_hash": "cb7d5d7b",
        "execution_start": 1681706463713,
        "execution_millis": 266,
        "deepnote_to_be_reexecuted": false,
        "deepnote_cell_type": "code",
        "id": "LywotlgU1tKZ"
      },
      "outputs": [],
      "execution_count": null
    },
    {
      "cell_type": "markdown",
      "source": [
        "As shown here, most of the days in our dataset are Saturday. A much fewer number of days (less than 25) are Friday.\n",
        "\n",
        "**Note:** The bins in histograms are right next to one another, whereas the bins in barplots are separated by a bit of space. This is because the data in histograms are quantative. For example, a tip 11% is just above a tip of 12%, so these values should appear right next to one another (if binned separately). Meanwhile, the data in bar plots is categorical."
      ],
      "metadata": {
        "cell_id": "cf952228300f4844bfd0012961fe1630",
        "deepnote_cell_type": "markdown",
        "id": "Is8tgSet1tKZ"
      }
    },
    {
      "cell_type": "markdown",
      "source": [
        "**Question 3.3 -** Create a bar plot to visualize the `time` values from the `dat` dataframe."
      ],
      "metadata": {
        "cell_id": "b5f6289ea3de4901971ce5b1386859ac",
        "deepnote_cell_type": "markdown",
        "id": "azcqfXRa1tKZ"
      }
    },
    {
      "cell_type": "code",
      "source": [
        "## Create bar plot for ownership\n",
        "# Type your response below this line\n"
      ],
      "metadata": {
        "cell_id": "e1c99645c9c84902a4efbb68dd35c0df",
        "source_hash": "22f61771",
        "execution_start": 1681706463978,
        "execution_millis": 220,
        "deepnote_to_be_reexecuted": false,
        "deepnote_cell_type": "code",
        "id": "Nsg0ve1R1tKZ"
      },
      "outputs": [],
      "execution_count": null
    },
    {
      "cell_type": "markdown",
      "source": [
        "**Question 3.4 -** Describe the distribution and note any features of interest."
      ],
      "metadata": {
        "cell_id": "4cb995439eb34cc39129066ba7e31b94",
        "deepnote_cell_type": "markdown",
        "id": "lMjr_uYO1tKZ"
      }
    },
    {
      "cell_type": "markdown",
      "source": [
        "**Double-click this cell to type your answer here:**"
      ],
      "metadata": {
        "cell_id": "b91c51f919514cb8beaf41639ad31aa6",
        "deepnote_cell_type": "markdown",
        "id": "eHfHY9Cw1tKZ"
      }
    },
    {
      "cell_type": "markdown",
      "source": [
        "Sometimes, we may want to explore the relationship between two variables by visualizing them both at once. When we want to visualize the relationship between a categorical variable and quantitative variable, we can use boxplots. Here, we show how to use `gf_boxplot` to visualize the relationship between `time` (categorical) and `total_bill` (quantitative)."
      ],
      "metadata": {
        "cell_id": "32de61248c98407cad23d2ff0a8abf6e",
        "deepnote_cell_type": "markdown",
        "id": "d-8CG5C_1tKZ"
      }
    },
    {
      "cell_type": "code",
      "source": [
        "## Run this code but do not edit it\n",
        "# Create boxplots for admit_rates of institutions with different highest_degree values\n",
        "gf_boxplot(total_bill ~ time, data = dat,  fill = 'turquoise', color = 'black')"
      ],
      "metadata": {
        "cell_id": "40c92c2e5d46484cb2fb63ba5721c555",
        "source_hash": "16278a60",
        "execution_start": 1681706464200,
        "execution_millis": 324,
        "deepnote_to_be_reexecuted": false,
        "deepnote_cell_type": "code",
        "id": "6r-18FC_1tKZ"
      },
      "outputs": [],
      "execution_count": null
    },
    {
      "cell_type": "markdown",
      "source": [
        "In this case, we're using `time` as the **predictor variable** and `total_bill` as the **outcome variable**. In other words, we can use the time (dinner or luch) to help predict its total bill. That's because certain meals my cost more than others. So, knowing the type of meal can help us better predict the total bill.\n",
        "\n",
        "**Note:** This predictor-outcome relationship is coded in R through the syntax `outcome ~ predictor`, as in `gf_boxplot(total_bill ~ time,...)`.\n",
        "\n",
        "We see that total bills tend to be lower (lower medians) for lunch than for dinner. At many resteraunts there are lunch specials that tend to be cheaper than dinner options. Also, people may not eat as much during lunch as they would for dinner."
      ],
      "metadata": {
        "cell_id": "521039da7479422ea3df5c6aa6e4a0ed",
        "deepnote_cell_type": "markdown",
        "id": "QSgCEZ9o1tKa"
      }
    },
    {
      "cell_type": "markdown",
      "source": [
        "**Question 3.5 -** Create boxplots to visualize the relationship between `time` and `tip_percent` from the `dat` dataframe."
      ],
      "metadata": {
        "cell_id": "18e3736b55404360bcd2395f1459cb0e",
        "deepnote_cell_type": "markdown",
        "id": "haQgqrZK1tKa"
      }
    },
    {
      "cell_type": "code",
      "source": [
        "## Create boxplots for tip_percent of meals (dinner and lunch)\n",
        "# Type your response below this line\n"
      ],
      "metadata": {
        "cell_id": "024cbec367884e848d744a22af0c0de3",
        "source_hash": "c27b5b3e",
        "execution_start": 1681706464524,
        "execution_millis": 276,
        "deepnote_to_be_reexecuted": false,
        "deepnote_cell_type": "code",
        "id": "EY2ThswL1tKa"
      },
      "outputs": [],
      "execution_count": null
    },
    {
      "cell_type": "markdown",
      "source": [
        "**Question 3.6 -** Create boxplots to visualize the relationship between `day` and `tip_percent` from the `dat` dataframe.\n"
      ],
      "metadata": {
        "cell_id": "35a074e661bc482da1bd7f9e357e50a5",
        "deepnote_cell_type": "markdown",
        "id": "Z7CURY5V1tKa"
      }
    },
    {
      "cell_type": "code",
      "source": [
        "## Create boxplots for tip_percent of meals (Friday, Saturday, Sunday)\n",
        "# Type your response below this line\n"
      ],
      "metadata": {
        "cell_id": "3849a29e0caa4163a825383262260ec6",
        "source_hash": "ea7faf51",
        "execution_start": 1681706464793,
        "execution_millis": 309,
        "deepnote_to_be_reexecuted": false,
        "deepnote_cell_type": "code",
        "id": "RymbC0Zz1tKa"
      },
      "outputs": [],
      "execution_count": null
    },
    {
      "cell_type": "markdown",
      "source": [
        "**Question 3.6 -** Using your boxplot visualizations from **Question 3.4** and **Question 3.5**, describe the relationship between day and time, and tip percent."
      ],
      "metadata": {
        "cell_id": "5d0deecd4eec4268ad74e1c96d21336c",
        "deepnote_cell_type": "markdown",
        "id": "1BEBYhFb1tKa"
      }
    },
    {
      "cell_type": "markdown",
      "source": [
        "**Double-click this cell to type your answer here:**"
      ],
      "metadata": {
        "cell_id": "13fe372b6339405494dc2de40a4a5b8f",
        "deepnote_cell_type": "markdown",
        "id": "6vYN2olK1tKa"
      }
    },
    {
      "cell_type": "markdown",
      "source": [
        "### 4.0 - The Constant Model"
      ],
      "metadata": {
        "cell_id": "937afef37c9744378ad971827bf036db",
        "deepnote_cell_type": "markdown",
        "id": "AZCXvOU61tKa"
      }
    },
    {
      "cell_type": "markdown",
      "source": [
        "We can implement the calculations for the constant model using R. Remember the process:\n",
        "\n",
        "- Choose a value for $\\theta$\n",
        "- Compute the absolute loss for each observation $|y-\\theta|$\n",
        "- Find the sum of all the loss\n",
        "- Divide the sum by the number of observations\n",
        "\n",
        "**Note:** We will do each step on a separate line.\n",
        "\n",
        "The code cell below implements the mean absolute loss for the tip percent."
      ],
      "metadata": {
        "cell_id": "fe04de42cc8c46159417e66f9f1109e0",
        "deepnote_cell_type": "markdown",
        "id": "5c-cyMjN1tKa"
      }
    },
    {
      "cell_type": "code",
      "source": [
        "## Run this code but do not edit it\n",
        "# Choose a value for theta, compute the absolute loss,\n",
        "# Find the sum of all the loss, and\n",
        "# Divide the sum by the number of observations\n",
        "\n",
        "theta = 10\n",
        "absolute_loss = dat$tip_percent - theta\n",
        "sum_loss = sum(absolute_loss)\n",
        "mean_absolute_loss = sum_loss/length(absolute_loss)\n",
        "\n",
        "print(paste(\"The mean absolute loss with theta =\", theta, \" is \", mean_absolute_loss))"
      ],
      "metadata": {
        "cell_id": "a2fe4cef0caf4e729ce9dd7e0aacec7c",
        "source_hash": "d3cc6790",
        "execution_start": 1681706465100,
        "execution_millis": 14,
        "deepnote_to_be_reexecuted": false,
        "deepnote_cell_type": "code",
        "id": "8al7FRc81tKa"
      },
      "outputs": [],
      "execution_count": null
    },
    {
      "cell_type": "markdown",
      "source": [
        "Choose a different value for $\\theta$ between 10-20%. Assign your choice for $\\theta$ to `theta = `, then run the cell."
      ],
      "metadata": {
        "cell_id": "029f014b3c35479fa0aa54335236b659",
        "deepnote_cell_type": "markdown",
        "id": "tWv2qxAY1tKa"
      }
    },
    {
      "cell_type": "code",
      "source": [
        "## Run this code but do not edit it\n",
        "# Choose a value for theta, compute the absolute loss,\n",
        "# Find the sum of all the loss, and\n",
        "# ivide the sum by the number of observations\n",
        "\n",
        "theta = 10\n",
        "absolute_loss = dat$tip_percent - theta\n",
        "sum_loss = sum(absolute_loss)\n",
        "mean_absolute_loss = sum_loss/length(absolute_loss)\n",
        "\n",
        "print(paste(\"The mean absolute loss with theta =\", theta, \" is \", mean_absolute_loss))"
      ],
      "metadata": {
        "cell_id": "944106517439487a8d582a9abe948467",
        "allow_embed": false,
        "source_hash": "d3cc6790",
        "execution_start": 1681706465113,
        "execution_millis": 39,
        "deepnote_to_be_reexecuted": false,
        "deepnote_cell_type": "code",
        "id": "TdRwrbvd1tKa"
      },
      "outputs": [],
      "execution_count": null
    },
    {
      "cell_type": "markdown",
      "source": [
        "**Question 3.7 -** Was you value for mean absolute loss greater than or less than the $\\theta=10$. Explain what it means for the value of `mean_absolute_loss` to be greater for $\\theta=10$. What value of $\\theta$ do you think will result in the lowest amount for the `mean_absolute_loss`?"
      ],
      "metadata": {
        "cell_id": "e35dc45ca40741f9973f1489332c4906",
        "deepnote_cell_type": "markdown",
        "id": "Qfv5l1IG1tKa"
      }
    },
    {
      "cell_type": "markdown",
      "source": [
        "**Double-click this cell to type your answer here:**"
      ],
      "metadata": {
        "cell_id": "646adf95f28e4331ace56c8959d8ced3",
        "deepnote_cell_type": "markdown",
        "id": "otL5uyWg1tKa"
      }
    },
    {
      "cell_type": "markdown",
      "source": [
        "Now, let's try setting the value of $\\theta$ to the median. Then check the results from our `mean_absolute_loss` process."
      ],
      "metadata": {
        "cell_id": "480a0ad785a64cfb83e6157961d0e79f",
        "deepnote_cell_type": "markdown",
        "id": "4AQIvaqV1tKa"
      }
    },
    {
      "cell_type": "code",
      "source": [
        "## Run this code but do not edit it\n",
        "# Find the median `tip_percent` column, then calculate the mean absolute loss and the find the median.\n",
        "mean_tip <- mean(dat$tip_percent)\n",
        "print(paste(\"The average tip percent is\", mean_tip))\n",
        "\n",
        "theta = mean_tip\n",
        "absolute_loss = dat$tip_percent - theta\n",
        "sum_loss = sum(absolute_loss)\n",
        "mean_absolute_loss = sum_loss/length(absolute_loss)\n",
        "print(paste(\"The mean absolute loss with `theta = median of all the values in the tip_percent` is\", mean_absolute_loss))"
      ],
      "metadata": {
        "cell_id": "c6693297b54f4e09b974ce740078159c",
        "source_hash": "301cd646",
        "execution_start": 1681706465150,
        "execution_millis": 37,
        "deepnote_to_be_reexecuted": false,
        "deepnote_cell_type": "code",
        "id": "EjErweW_1tKa"
      },
      "outputs": [],
      "execution_count": null
    },
    {
      "cell_type": "markdown",
      "source": [
        "If you are not convinced that the value of $\\theta=15.5$ results in the smallest mean absolute loss, then try different $\\theta$ values and run the code cell below."
      ],
      "metadata": {
        "cell_id": "503b2d58862e4b9093a001fdd1b964fc",
        "deepnote_cell_type": "markdown",
        "id": "vkuJIR8E1tKa"
      }
    },
    {
      "cell_type": "code",
      "source": [
        "## Run this code but do not edit it\n",
        "# Find the median `tip_percent` column, then calculate the mean absolute loss and the find the median.\n",
        "theta = 12\n",
        "absolute_loss = dat$tip_percent - theta\n",
        "sum_loss = sum(absolute_loss)\n",
        "mean_absolute_loss = sum_loss/length(absolute_loss)\n",
        "print(paste(\"The mean absolute loss with `theta = median` of all the values in the tip_percent` is\", mean_absolute_loss))"
      ],
      "metadata": {
        "cell_id": "a462fd24e5914b7cad652618c1f3efbc",
        "allow_embed": false,
        "source_hash": "8e138910",
        "execution_start": 1681706465186,
        "execution_millis": 3,
        "deepnote_to_be_reexecuted": false,
        "deepnote_cell_type": "code",
        "id": "sk3hjdl81tKa"
      },
      "outputs": [],
      "execution_count": null
    },
    {
      "cell_type": "markdown",
      "source": [
        "**Question 3.8 -** Now we will implement the steps fo compute the mean squared loss. Remember the process:\n",
        "\n",
        "- Choose a value for $\\theta$\n",
        "- Compute the squared loss for each observation $(y-\\theta)^2$\n",
        "- Find the sum of all the loss\n",
        "- Divide the sum by the number of observations\n",
        "\n",
        "**Note:** We will do each step on a separate line.\n",
        "\n",
        "The code cell below implements the mean squared loss for the tip percent."
      ],
      "metadata": {
        "cell_id": "e7bcbb332d764529bec6fdd5396efa4e",
        "deepnote_cell_type": "markdown",
        "id": "_IS9edXE1tKa"
      }
    },
    {
      "cell_type": "code",
      "source": [
        "## Choose a value for theta, compute the squared loss,\n",
        "# Find the sum of all the loss, and\n",
        "# Divide the sum by the number of observations\n",
        "# Type your response below this line\n",
        "\n",
        "theta = ...\n",
        "squared_loss = ...\n",
        "sum_loss = ...\n",
        "mean_squared_loss = ...\n",
        "\n",
        "print(paste(\"The mean squared loss with theta =\", theta, \" is \", mean_squared_loss))"
      ],
      "metadata": {
        "cell_id": "4ee9ceb0081c4ba7b987c522ebe39a0f",
        "allow_embed": false,
        "source_hash": "f14a3238",
        "execution_start": 1681706465187,
        "execution_millis": 1,
        "deepnote_to_be_reexecuted": false,
        "deepnote_cell_type": "code",
        "id": "DBINeWhH1tKa"
      },
      "outputs": [],
      "execution_count": null
    },
    {
      "cell_type": "markdown",
      "source": [
        "Choose a different value for $\\theta$ between 10-20%. Assign your choice for $\\theta$ to `theta = `, then run the cell."
      ],
      "metadata": {
        "cell_id": "8972279fc7a642d6a1f24413ca8d53c9",
        "deepnote_cell_type": "markdown",
        "id": "5E77o7Ac1tKa"
      }
    },
    {
      "cell_type": "code",
      "source": [
        "## Choose a value for theta, compute the squared loss,\n",
        "# Find the sum of all the loss, and\n",
        "# Divide the sum by the number of observations\n",
        "# Type your response below this line\n",
        "\n",
        "theta = ...\n",
        "squared_loss = ...\n",
        "sum_loss = ...\n",
        "mean_squared_loss = ...\n",
        "\n",
        "print(paste(\"The mean squared loss with theta =\", theta, \" is \", mean_squared_loss))"
      ],
      "metadata": {
        "cell_id": "ed1a3dbaf4a549288d07f80d0720ab2d",
        "allow_embed": false,
        "source_hash": "9ded2629",
        "execution_start": 1681706465191,
        "execution_millis": 7,
        "deepnote_to_be_reexecuted": false,
        "deepnote_cell_type": "code",
        "id": "k-K69TIi1tKb"
      },
      "outputs": [],
      "execution_count": null
    },
    {
      "cell_type": "markdown",
      "source": [
        "**Question 3.9 -** Was you value for mean squared loss greater than or less than the $\\theta=10$. Explain what it means for the value of `mean_squared_loss` to be greater for $\\theta=10$. What value of $\\theta$ do you think will result in the lowest amount for the `mean_squared_loss`?"
      ],
      "metadata": {
        "cell_id": "f194d85db25f4016ab8ea43b0ee3ce97",
        "deepnote_cell_type": "markdown",
        "id": "UHxV6B-h1tKb"
      }
    },
    {
      "cell_type": "markdown",
      "source": [
        "**Double-click this cell to type your answer here:**"
      ],
      "metadata": {
        "cell_id": "0036da867d5f498181f11f239ffbba22",
        "deepnote_cell_type": "markdown",
        "id": "KQOXtqGE1tKb"
      }
    },
    {
      "cell_type": "markdown",
      "source": [
        "Now, let's try setting the value of $\\theta$ to the mean. Then check the results from our `mean_squared_loss` process."
      ],
      "metadata": {
        "cell_id": "274d64e4e62e4157a9ac8c55cb4f45c7",
        "deepnote_cell_type": "markdown",
        "id": "207xQkeW1tKb"
      }
    },
    {
      "cell_type": "code",
      "source": [
        "## Run this code but do not edit it\n",
        "# Find the median `tip_percent` column, then calculate the mean absolute loss and the find the median.\n",
        "mean_tip <- mean(dat$tip_percent)\n",
        "print(paste(\"The average tip percent is\", mean_tip))\n",
        "\n",
        "theta = mean_tip\n",
        "squared_loss = (dat$tip_percent - theta)^2\n",
        "sum_loss = sum(squared_loss)\n",
        "mean_squared_loss = sum_loss/length(squared_loss)\n",
        "print(paste(\"The mean squared loss with `theta = mean of all the values in the tip_percent` is\", mean_squared_loss))"
      ],
      "metadata": {
        "cell_id": "3dfe2bd4622343e6b34ff0895e52570e",
        "source_hash": "c7738f4c",
        "execution_start": 1681706465315,
        "execution_millis": 8,
        "deepnote_to_be_reexecuted": false,
        "deepnote_cell_type": "code",
        "id": "NUXUda5c1tKb"
      },
      "outputs": [],
      "execution_count": null
    },
    {
      "cell_type": "markdown",
      "source": [
        "If you are not convinced that the value of $\\theta=16$ results in the smallest mean squared loss, then try different $\\theta$ values and run the code cell below."
      ],
      "metadata": {
        "cell_id": "cca43a0f9a8a4593bd21a192dfa5c44a",
        "deepnote_cell_type": "markdown",
        "id": "q5m_95Zd1tKb"
      }
    },
    {
      "cell_type": "code",
      "source": [
        "## Run this code but do not edit it\n",
        "# Find the median `tip_percent` column, then calculate the mean absolute loss and the find the median.\n",
        "mean_tip <- mean(dat$tip_percent)\n",
        "print(paste(\"The average tip percent is\", mean_tip))\n",
        "\n",
        "theta = 12\n",
        "squared_loss = (dat$tip_percent - theta)^2\n",
        "sum_loss = sum(squared_loss)\n",
        "mean_squared_loss = sum_loss/length(squared_loss)\n",
        "print(paste(\"The mean squared loss with `theta = mean of all the values in the tip_percent` is\", mean_squared_loss))"
      ],
      "metadata": {
        "cell_id": "1e273d2556c24dddbc6e2557902e1e16",
        "allow_embed": false,
        "source_hash": "617dc32c",
        "execution_start": 1681706465315,
        "execution_millis": 7,
        "deepnote_to_be_reexecuted": false,
        "deepnote_cell_type": "code",
        "id": "S4DuGmEq1tKb"
      },
      "outputs": [],
      "execution_count": null
    },
    {
      "cell_type": "markdown",
      "source": [
        "Now that we’ve worked with two loss functions, we can ask ourselves how do we choose between the median or mean? Since these statistics minimize different loss functions, we can equivalently ask: what is the most appropriate loss function for our problem? To answer this question, we look at the context of our problem.\n",
        "\n",
        "Compared to the mean absolute loss, the mean squared loss gives especially large losses when the tip is much larger (or smaller) than expected. An analyst who wants to understand the typical tip percent would use mean absolute loss and the median (15.5), but an analyst  who despises unexpected large tips might summarize the data using mean squared loss and the mean (16)."
      ],
      "metadata": {
        "cell_id": "7b4f840c0a0044bf93bd73f4fd6207a4",
        "deepnote_cell_type": "markdown",
        "id": "-_ax55e11tKb"
      }
    },
    {
      "cell_type": "markdown",
      "source": [
        "We’ve introduced the constant model: a model that summarizes all of the data by a single value. To fit the constant model, we chose a loss function that measured how well a given constant fits a data value, and we computed the average loss over all of the data values. We saw that depending on the choice of loss function, we get a different minimizing value: we found that the mean minimizes the average squared loss, and the median minimizes the average absolute loss. We also discussed how we can incorporate context and knowledge of our problem to pick a loss function.\n",
        "\n",
        "The idea of fitting models through loss minimization ties simple summary statistics—like the mean, median-to more complex modeling situations. The process we took to model our data apply to many modeling scenarios:\n",
        "\n",
        "- Select the form of a model (such as the constant model)\n",
        "\n",
        "- Select a loss function (such as absolute or squared loss)\n",
        "\n",
        "- Fit the model by minimizing the loss over all the data (such as average loss)"
      ],
      "metadata": {
        "cell_id": "18e287311d3c47e4b6b9026ea8c18c73",
        "deepnote_cell_type": "markdown",
        "id": "hBNSwVDF1tKb"
      }
    },
    {
      "cell_type": "markdown",
      "source": [],
      "metadata": {
        "cell_id": "4ae2ef266ee84b6580bb595ced56c31b",
        "deepnote_cell_type": "markdown",
        "id": "PGct1mdk1tKb"
      }
    }
  ],
  "nbformat": 4,
  "nbformat_minor": 0,
  "metadata": {
    "deepnote": {},
    "orig_nbformat": 2,
    "deepnote_notebook_id": "af2aee7a9c5144668aba6851c47f182d",
    "deepnote_execution_queue": [],
    "colab": {
      "provenance": []
    },
    "language_info": {
      "name": "R"
    },
    "kernelspec": {
      "name": "ir",
      "display_name": "R"
    }
  }
}