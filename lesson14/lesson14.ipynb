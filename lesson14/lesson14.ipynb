{
  "cells": [
    {
      "cell_type": "markdown",
      "metadata": {
        "cell_id": "e4549b80dc6546a38ad7e971eebe150d",
        "deepnote_cell_type": "markdown",
        "id": "SQatRgMmXWAN",
        "tags": []
      },
      "source": [
        "## Simple Linear Regression"
      ]
    },
    {
      "cell_type": "code",
      "execution_count": null,
      "metadata": {
        "cell_id": "0f8dfa04fd8a42909ca5f51ce9d4651a",
        "deepnote_cell_type": "code",
        "deepnote_to_be_reexecuted": false,
        "execution_millis": 8715,
        "execution_start": 1682822382738,
        "id": "Y29dZs5lXWAO",
        "output_cleared": false,
        "source_hash": null,
        "tags": [],
        "vscode": {
          "languageId": "r"
        }
      },
      "outputs": [],
      "source": [
        "## Run this code but do not edit it. Hit Ctrl+Enter to run the code.\n",
        "# This command downloads and installs a useful package of R\n",
        "# commands for constructing visualizations\n",
        "install.packages(\"ggformula\", quiet = TRUE, verbose = FALSE)\n",
        "\n",
        "# This command loads useful packages of R commands into your\n",
        "# notebook for manipulating data and constructing visualizations\n",
        "suppressPackageStartupMessages({\n",
        "    library(dplyr)\n",
        "    library(ggplot2)\n",
        "    library(ggformula)\n",
        "})\n",
        "\n",
        "# This command sets the theme for the visualizations in\n",
        "# this notebook\n",
        "theme_set(\n",
        "  theme_light() +\n",
        "  theme(\n",
        "    panel.background = element_rect(fill = \"white\", colour = \"white\"),\n",
        "    plot.background = element_blank(),\n",
        "    axis.line = element_line(color = \"black\")\n",
        "  )\n",
        ")"
      ]
    },
    {
      "cell_type": "markdown",
      "metadata": {
        "cell_id": "f6c25ad062e0464497ef4e36eefa37ec",
        "deepnote_cell_type": "markdown",
        "id": "ZErtW3l4XWAP",
        "tags": []
      },
      "source": [
        "#### The Dataset (`fish.csv`)\n",
        "In this notebook, we'll be using the `fish.csv` file, which includes data about 7 common different fish species in fish market sales.\n",
        "\n",
        "This dataset originally comes from Juha Puranen from the Departement of Statistics at the University of Helsinki, Finland. The researchers wanted to develop a model that could be used to predict the weight of a fish.\n",
        "\n",
        "\n",
        "##### Variables\n",
        "- `Species` --> categorical | Perch, Bream, Other\n",
        "- `Weight` --> quantitative | Weight of the fish (in grams)\n",
        "- `Length1` --> quantitative | Length from the nose to the beginning of the tail (in cm)\n",
        "- `Length2` --> quantitative | Length from the nose to the notch of the tail (in cm)\n",
        "- `Length3` --> quantitative | Length from the nose to the end of the tail (in cm)\n",
        "- `Height` --> quantitative | Maximal height as % of Length3\n",
        "- `Width` --> quantitative | Maximal width as % of Length3  \n",
        "\n",
        "##### Detailed description, diagram of measurements and abstract notes can be found <a href=\"https://jse.amstat.org/datasets/fishcatch.txt\">here</a>."
      ]
    },
    {
      "cell_type": "markdown",
      "metadata": {
        "cell_id": "b8538dba1f1b42a79a50ebba13c176c5",
        "deepnote_cell_type": "markdown",
        "id": "i3k3jgtKXWAP",
        "tags": []
      },
      "source": [
        "### 1.0 - Exploratory Data Analysis"
      ]
    },
    {
      "cell_type": "markdown",
      "metadata": {
        "cell_id": "6f1fe8f516e94335bb95239e096e24ce",
        "deepnote_cell_type": "markdown",
        "id": "UwvdWnzRXWAP",
        "tags": []
      },
      "source": [
        "To begin, let's download our data. We'll download the `fish.csv` file and store it in an R dataframe called `dat`."
      ]
    },
    {
      "cell_type": "code",
      "execution_count": null,
      "metadata": {
        "cell_id": "ab544f6d83434b918e3a0bc9ef11cf10",
        "deepnote_cell_type": "code",
        "deepnote_to_be_reexecuted": false,
        "execution_millis": 19,
        "execution_start": 1682822391510,
        "id": "gfioFLNoXWAQ",
        "output_cleared": false,
        "source_hash": null,
        "tags": [],
        "vscode": {
          "languageId": "r"
        }
      },
      "outputs": [],
      "source": [
        "## Run this code but do not edit it. Hit Ctrl+Enter to run the code.\n",
        "# This command saves the fish.csv to a dataframe\n",
        "url <- 'https://raw.githubusercontent.com/mahmoudharding/mas2/main/lesson14/data/fish.csv'\n",
        "dat <- read.csv(url)"
      ]
    },
    {
      "cell_type": "markdown",
      "metadata": {
        "cell_id": "18a8b1ecd08a44c693180499c9d85aaf",
        "deepnote_cell_type": "markdown",
        "id": "XbjAS2frXWAQ",
        "tags": []
      },
      "source": [
        "**Question 1.1 -** Use the `head` command to print out the first several rows of the dataset."
      ]
    },
    {
      "cell_type": "code",
      "execution_count": null,
      "metadata": {
        "cell_id": "fa3998db06034dc899d2781bb5ae5a11",
        "deepnote_cell_type": "code",
        "deepnote_to_be_reexecuted": false,
        "execution_millis": 35,
        "execution_start": 1682822391532,
        "id": "mwKsVqVuXWAQ",
        "output_cleared": false,
        "source_hash": null,
        "tags": [],
        "vscode": {
          "languageId": "r"
        }
      },
      "outputs": [],
      "source": [
        "## Print head of dataset\n",
        "# Type your response below this line\n"
      ]
    },
    {
      "cell_type": "markdown",
      "metadata": {
        "cell_id": "8cf198c8f8c14a7a806438d324b49ada",
        "deepnote_cell_type": "markdown",
        "id": "2wba4XK6XWAQ",
        "tags": []
      },
      "source": [
        "**Question 1.2 -** Use the `dim` command to find the number of fish (rows) and number of variables (columns) in our data set."
      ]
    },
    {
      "cell_type": "code",
      "execution_count": null,
      "metadata": {
        "cell_id": "1fd15aeb2d86445dbc623e20e1f62ce2",
        "deepnote_cell_type": "code",
        "deepnote_to_be_reexecuted": false,
        "execution_millis": 50,
        "execution_start": 1682822391570,
        "id": "7xqaMETqXWAQ",
        "output_cleared": false,
        "source_hash": null,
        "tags": [],
        "vscode": {
          "languageId": "r"
        }
      },
      "outputs": [],
      "source": [
        "## Get dimensions of dataset\n",
        "# Type your response below this line\n"
      ]
    },
    {
      "cell_type": "markdown",
      "metadata": {
        "cell_id": "6014d3c476b74de299b96acfeac203c0",
        "deepnote_cell_type": "markdown",
        "id": "-6W6POoBXWAQ",
        "tags": []
      },
      "source": [
        "A good measure to use to predict the weight of a fish could be to use it's total body length. When analyzing variables of interest (`Weight`, `Length3`), it's often helpful to calculate summary statistics. For quantitative variables, we can use the summary command to find the five-number summary (minimum, Q1, median, Q3, maximum) and the average (mean) of the values. The code block shows how we find these summary statistics for the `Weight` variable.\n",
        "\n",
        "**Note:** The `$` sign in R is used to isolate a single variable (`Weight`) from a dataframe (`dat`)."
      ]
    },
    {
      "cell_type": "code",
      "execution_count": null,
      "metadata": {
        "cell_id": "fce5e1803f8549b38eb5bdc470852444",
        "deepnote_cell_type": "code",
        "deepnote_to_be_reexecuted": false,
        "execution_millis": 1,
        "execution_start": 1682822391663,
        "id": "ay82yJyWXWAQ",
        "source_hash": null,
        "vscode": {
          "languageId": "r"
        }
      },
      "outputs": [],
      "source": [
        "## Run this code but do not edit it\n",
        "# Find summary statistics for Weight\n",
        "summary(dat$Weight)"
      ]
    },
    {
      "cell_type": "markdown",
      "metadata": {
        "cell_id": "5ed805000029433d8961ae9a581803dd",
        "deepnote_cell_type": "markdown",
        "id": "FlZ03PkJXWAQ"
      },
      "source": [
        "**Question 1.3 -** Comment on what these summary statistics reveal about the `Weight` values in our dataset."
      ]
    },
    {
      "cell_type": "markdown",
      "metadata": {
        "cell_id": "4130d5146bdd48dcb17fb2a3ba04bd86",
        "deepnote_cell_type": "markdown",
        "id": "z6Ke-c6PXWAQ"
      },
      "source": [
        "**Double-click this cell to type your answer here:**"
      ]
    },
    {
      "cell_type": "markdown",
      "metadata": {
        "cell_id": "f644195b683a4cf79650d40eb91eae34",
        "deepnote_cell_type": "markdown",
        "id": "hE5FGadlXWAQ"
      },
      "source": [
        "Now let's examine `Length3`. First we'll look at the summary statstics."
      ]
    },
    {
      "cell_type": "markdown",
      "metadata": {
        "cell_id": "7eb3ebc8d50949bcb1156d62fcb5e5df",
        "deepnote_cell_type": "markdown",
        "id": "r2REknc_XWAR"
      },
      "source": [
        "**Question 1.4 -** Use the `summary` command to find the 5 number summary for the variable `Length3`."
      ]
    },
    {
      "cell_type": "code",
      "execution_count": null,
      "metadata": {
        "cell_id": "d11e876ed2a745f4966404d4d6addc5f",
        "deepnote_cell_type": "code",
        "deepnote_to_be_reexecuted": false,
        "execution_millis": 45,
        "execution_start": 1682822391663,
        "id": "Ndzir90GXWAR",
        "source_hash": null,
        "vscode": {
          "languageId": "r"
        }
      },
      "outputs": [],
      "source": [
        "## Find summary statistics for Length3\n",
        "# Type your response below this line\n"
      ]
    },
    {
      "cell_type": "markdown",
      "metadata": {
        "cell_id": "04b3ef4b31994d0dac7651e5686d1e5e",
        "deepnote_cell_type": "markdown",
        "id": "AmTi9WKHXWAR"
      },
      "source": [
        "**Question 1.5 -** Comment on what these summary statistics reveal about the `Length3` values in our dataset."
      ]
    },
    {
      "cell_type": "markdown",
      "metadata": {
        "cell_id": "058d1e645b4a43898ed02a4820ff209f",
        "deepnote_cell_type": "markdown",
        "id": "_gFuywgZXWAR"
      },
      "source": [
        "**Double-click this cell to type your answer here:**"
      ]
    },
    {
      "cell_type": "markdown",
      "metadata": {
        "cell_id": "fc4d6c92c4a0482699306027fc4ef33b",
        "deepnote_cell_type": "markdown",
        "id": "zSzfSSH2XWAR"
      },
      "source": [
        "It is also helpful to visualize the distribution of a quantitative variable. This can be useful in determining if the values are normally distributed or skewed (right or left). First we'll take a look at the distribution of the outcome variable `Weight`."
      ]
    },
    {
      "cell_type": "code",
      "execution_count": null,
      "metadata": {
        "cell_id": "ca04b43f3f12471fadf56b3d9221d2ed",
        "deepnote_cell_type": "code",
        "deepnote_to_be_reexecuted": false,
        "execution_millis": 294,
        "execution_start": 1682822687697,
        "id": "mdvV9iakXWAR",
        "source_hash": null,
        "vscode": {
          "languageId": "r"
        }
      },
      "outputs": [],
      "source": [
        "## Run this code but do not edit it\n",
        "# Create histogram for Weight\n",
        "gf_histogram(~Weight, data = dat, fill = 'turquoise', color = 'black')"
      ]
    },
    {
      "cell_type": "markdown",
      "metadata": {
        "cell_id": "d2d40d25e94e43588b8beb81d9a1ee50",
        "deepnote_cell_type": "markdown",
        "id": "_wN2-cVlXWAR"
      },
      "source": [
        "As we suspected from the summary statistics, it appears that most of the fish weigh less than 650 grams and that the distribution is right-skewed. Now let's take a look at the distribution of the `Length3` variable."
      ]
    },
    {
      "cell_type": "code",
      "execution_count": null,
      "metadata": {
        "cell_id": "46832ecbf77a428ea354af5346ae3a72",
        "deepnote_cell_type": "code",
        "deepnote_to_be_reexecuted": false,
        "execution_millis": 345,
        "execution_start": 1682822710777,
        "id": "UElMJWnMXWAR",
        "source_hash": null,
        "vscode": {
          "languageId": "r"
        }
      },
      "outputs": [],
      "source": [
        "## Run this code but do not edit it\n",
        "# Create histogram for Length3\n",
        "gf_histogram(~Length3, data = dat, fill = 'turquoise', color = 'black')"
      ]
    },
    {
      "cell_type": "markdown",
      "metadata": {
        "cell_id": "b9e2a5d8215f4901aa8003219636d5d5",
        "deepnote_cell_type": "markdown",
        "id": "07ndIsmOXWAR"
      },
      "source": [
        "**Question 1.6 -** Comment on what the histogram reveals about the `Length3` values in our dataset."
      ]
    },
    {
      "cell_type": "markdown",
      "metadata": {
        "cell_id": "f9571ef76603450fbd59ac88fea21e02",
        "deepnote_cell_type": "markdown",
        "id": "ZniMRgZsXWAR"
      },
      "source": [
        "**Double-click this cell to type your answer here:**"
      ]
    },
    {
      "cell_type": "markdown",
      "metadata": {
        "cell_id": "d3bdd1ffe9544106b7dc84571479a05b",
        "deepnote_cell_type": "markdown",
        "id": "C2iIERNyXWAR"
      },
      "source": [
        "For categorical data, it doesn't make sense to find means and medians. Instead, it's helpful to look at value counts and proportions. We can use the `table` command to find the counts of the different values for `Species`:"
      ]
    },
    {
      "cell_type": "code",
      "execution_count": null,
      "metadata": {
        "cell_id": "9ff7126eb09541cd9e51058fdb599bb1",
        "deepnote_cell_type": "code",
        "deepnote_to_be_reexecuted": false,
        "execution_millis": 16,
        "execution_start": 1682822712108,
        "id": "FCtIX64rXWAR",
        "source_hash": null,
        "vscode": {
          "languageId": "r"
        }
      },
      "outputs": [],
      "source": [
        "## Run this code but do not edit it\n",
        "# Find counts of values for different species of fish\n",
        "species_counts <- table(dat$Species)\n",
        "species_counts"
      ]
    },
    {
      "cell_type": "markdown",
      "metadata": {
        "cell_id": "b7a4d417f51a4964ba6a382b7c2acb26",
        "deepnote_cell_type": "markdown",
        "id": "de7eEe0SXWAR"
      },
      "source": [
        "To get a better sense of scale, we can turn these raw counts into proportions by dividing them by the total:"
      ]
    },
    {
      "cell_type": "code",
      "execution_count": null,
      "metadata": {
        "cell_id": "e6350178a45647f59d09926edfbd246f",
        "deepnote_cell_type": "code",
        "deepnote_to_be_reexecuted": false,
        "execution_millis": 50,
        "execution_start": 1682822718374,
        "id": "9-iv_mjzXWAR",
        "source_hash": null,
        "vscode": {
          "languageId": "r"
        }
      },
      "outputs": [],
      "source": [
        "## Run this code but do not edit it\n",
        "# Find the total by summing of all counts in table\n",
        "total <- sum(species_counts)\n",
        "\n",
        "# Find the proportions for species by dividing table by total\n",
        "species_counts / total"
      ]
    },
    {
      "cell_type": "markdown",
      "metadata": {
        "cell_id": "6c3ec001263646358bc38b4340043fd0",
        "deepnote_cell_type": "markdown",
        "id": "kgHk2SFMXWAR"
      },
      "source": [
        "**Question 1.7 -** Find and comment on the proportion of species types."
      ]
    },
    {
      "cell_type": "markdown",
      "metadata": {
        "cell_id": "ff5b0ae425fa4411955cc7bc439da39c",
        "deepnote_cell_type": "markdown",
        "id": "DHMp73DRXWAR"
      },
      "source": [
        "**Double-click this cell to type your answer here:**"
      ]
    },
    {
      "cell_type": "markdown",
      "metadata": {
        "cell_id": "e16298f0336846c3bb7edcf2c36f05f0",
        "deepnote_cell_type": "markdown",
        "id": "I14dKp-BXWAS"
      },
      "source": [
        "Finally, to get a sense of how the weights and lengths are distributed across the various species we can create a box plot."
      ]
    },
    {
      "cell_type": "code",
      "execution_count": null,
      "metadata": {
        "cell_id": "36d98a1844bd453eb0950391236745c0",
        "deepnote_cell_type": "code",
        "deepnote_to_be_reexecuted": false,
        "execution_millis": 444,
        "execution_start": 1682822752034,
        "id": "5iiSuRyHXWAS",
        "source_hash": null,
        "vscode": {
          "languageId": "r"
        }
      },
      "outputs": [],
      "source": [
        "## Run this code but do not edit it\n",
        "# Create boxplots for weight for the different species\n",
        "gf_boxplot(Weight ~ Species, data = dat, fill = 'turquoise', color = 'black')"
      ]
    },
    {
      "cell_type": "markdown",
      "metadata": {
        "cell_id": "9295509e74ad4ea6964de29a84828b7d",
        "deepnote_cell_type": "markdown",
        "id": "ImvbdCpTXWAS"
      },
      "source": [
        "In this case, we're using `Species` as the **predictor variable** and `Weight` as the **outcome variable**. In other words, we can use the species type of a fish (Bream, Perch, Smelt, etc.) to help predict its weight. That's because weights of different species of fish are not the same. So, knowing the species of a fish can help us better predict its weight.\n",
        "\n",
        "**Note:** This predictor-outcome relationship is coded in R through the syntax `outcome ~ predictor`, as in `gf_boxplot(Weight ~ Species,...)`.\n",
        "\n",
        "We see that weight for Prakki and Roach tend to be a lot lower than the weights of Bream, Perch, Pike and Whitefish. We also notice that a few of the Roach species are outliers. And, the minimum weight for the Parkki, Perch and Roach seem to be the same."
      ]
    },
    {
      "cell_type": "markdown",
      "metadata": {
        "cell_id": "5528785fe10b4c1bbb670607105bbebb",
        "deepnote_cell_type": "markdown",
        "id": "teE4pqdfXWAS",
        "tags": []
      },
      "source": [
        "### 2.0 - Scatter Plots"
      ]
    },
    {
      "cell_type": "markdown",
      "metadata": {
        "cell_id": "0472ec5e92644ed7a424002624e3f722",
        "deepnote_cell_type": "markdown",
        "id": "953392MwXWAS"
      },
      "source": [
        "So, our main **outcome variable** in this analysis will be `Weight`. We're going to use scatterplots to see how strongly different **predictor variables** correlate with weight. In particular, we're to explore how well each of the following variables predicts weight:\n",
        "\n",
        "- `Length3` - Length from the nose to the end of the tail (in cm)\n",
        "- `Height` - Maximal height as % of Length3\n",
        "- `Width` - Maximal width as % of Length3  \n",
        "\n",
        "To begin, let's create a **scatterplot** of `Weight` and the `Length3`. We can use the `gf_point` command to make the graph:"
      ]
    },
    {
      "cell_type": "code",
      "execution_count": null,
      "metadata": {
        "cell_id": "14284b693d0f40ac98035ee6a86bc262",
        "deepnote_cell_type": "code",
        "deepnote_to_be_reexecuted": false,
        "execution_millis": 301,
        "execution_start": 1682822907547,
        "id": "2wBLPc9nXWAS",
        "output_cleared": false,
        "source_hash": null,
        "tags": [],
        "vscode": {
          "languageId": "r"
        }
      },
      "outputs": [],
      "source": [
        "## Run this code but do not edit it.\n",
        "# Create scatterplot: Weight ~ Length3\n",
        "gf_point(Weight ~ Length3, data = dat)"
      ]
    },
    {
      "cell_type": "markdown",
      "metadata": {
        "cell_id": "b233c965f86743caa504be2280898e37",
        "deepnote_cell_type": "markdown",
        "id": "2z5vklT1XWAS",
        "tags": []
      },
      "source": [
        "**Question 2.1 -** Using your scatterplot, describe the relationship between `Length3` and `Weight`. For instance, are these variables positively or negatively related? How can you tell? Explain."
      ]
    },
    {
      "cell_type": "markdown",
      "metadata": {
        "cell_id": "c76f0d1fa96e4cb3a6fc99a31c42bc24",
        "deepnote_cell_type": "markdown",
        "id": "R-g89xFqXWAS",
        "tags": []
      },
      "source": [
        "**Double-click this cell to type your answer here:**"
      ]
    },
    {
      "cell_type": "markdown",
      "metadata": {
        "cell_id": "08ffe0bbb4ae4e62abfee935b56b7faf",
        "deepnote_cell_type": "markdown",
        "id": "8gzpBfWXXWAb",
        "tags": []
      },
      "source": [
        "### 3.0 - Simple Linear Regression (one predictor)"
      ]
    },
    {
      "cell_type": "markdown",
      "metadata": {
        "cell_id": "606d06b9b21c4b6f80d4b7c2c07c1df3",
        "deepnote_cell_type": "markdown",
        "id": "wuyzUANTXWAb"
      },
      "source": [
        "**Question 3.1 -** Watch <a href=\"https://youtu.be/hvWgu4A0VA4\">this video</a>, which provides an introduction to simple linear regression. Note: This video is adapted from other materials and covers data from a separate context. However, the video provides a good intro to the concepts and models we'll be using in this section of the project."
      ]
    },
    {
      "cell_type": "markdown",
      "metadata": {
        "cell_id": "f0f64e1f356d4b63badaece385c3334a",
        "deepnote_cell_type": "markdown",
        "id": "C6Kmi5-_XWAb"
      },
      "source": [
        "<div class=\"alert alert-block alert-info\"><b>Instructor Note:</b> If your students want to cover the discussion question at the end of the video, you can download the handout key or slide deck from the <a href = \"https://skewthescript.org/3-2\">full Skew The Script lesson page</a>, which has useful teaching materials for covering the discussion question. Note: Covering the discussion question is not required for successful completion of this project.\n",
        "</div>"
      ]
    },
    {
      "cell_type": "markdown",
      "metadata": {
        "cell_id": "ebc7a15063bf42168e3e8819e0c32935",
        "deepnote_cell_type": "markdown",
        "id": "DaiKT5A7XWAb",
        "tags": []
      },
      "source": [
        "Let's create a linear regression model relating `Length3` (x) and `Weight` (y). To visualize our model, we can graph the line modeled by our equation on top of the scatterplot relating `Length3` to `Weight`. We use the `gf_point` command to produce the scatterplot, the `gf_lm` command to graph our linear model, and a `%>%` symbol to put the elements together on the same graph:"
      ]
    },
    {
      "cell_type": "code",
      "execution_count": null,
      "metadata": {
        "cell_id": "e0b8320733c14295b6be73c555de4d6c",
        "deepnote_cell_type": "code",
        "deepnote_to_be_reexecuted": false,
        "execution_millis": 400,
        "execution_start": 1682822921738,
        "id": "E5iVhdvoXWAb",
        "source_hash": null,
        "vscode": {
          "languageId": "r"
        }
      },
      "outputs": [],
      "source": [
        "## Run this code but do not edit it\n",
        "# Overlay linear model of Weigth ~ Length3 on top of scatterplot\n",
        "gf_point(Weight ~ Length3, data = dat) %>% gf_lm(color = \"red\")"
      ]
    },
    {
      "cell_type": "markdown",
      "metadata": {
        "cell_id": "2e6bb215fe6943e9a5e5cb599b17ec40",
        "deepnote_cell_type": "markdown",
        "id": "C00WNRlJXWAb",
        "tags": []
      },
      "source": [
        "**Question 3.2 -** Would the slope value of the linear regression model for these data be positive or negative? How can you tell?"
      ]
    },
    {
      "cell_type": "markdown",
      "metadata": {
        "cell_id": "aca25b822b8a40efad6cc263413aa4c6",
        "deepnote_cell_type": "markdown",
        "id": "I4DsEuinXWAb",
        "tags": []
      },
      "source": [
        "**Double-click this cell to type your answer here:**"
      ]
    },
    {
      "cell_type": "markdown",
      "metadata": {
        "cell_id": "fc5df80ae7c34c2c840b668b9dd3ffa2",
        "deepnote_cell_type": "markdown",
        "id": "m2SX6-vOXWAb",
        "tags": []
      },
      "source": [
        "R can help us find the equation that models this linear regression line. We can model a linear trend between a predictor $(x)$ and outcome $(y)$ using this linear regression formula:\n",
        "\n",
        "$$\n",
        "\\hat{y} = \\theta_{0} + \\theta_{1}x\n",
        "$$\n",
        "Where:\n",
        "- $\\hat{y}$ is the predicted $y-$value (predicted outcome value)\n",
        "- $\\theta_{0}$ is the $y-$intercept --> the predicted $y-$value (outcome value) when $x=0$ (the predictor's value is 0)\n",
        "- $\\theta_{1}$ is the slope --> the predicted change in $y$ (outcome) for a 1-unit increase in $x$ (predictor)\n",
        "- $x$ is the $x-$value (predictor value)\n",
        "\n",
        "To fit a linear regression model to a set of data in R, we use the `lm` command. `lm` standars for \"linear model.\" Here, we use `lm` to find the linear regression model relating `Length3` $(x)$ and `Weight` $(y)$."
      ]
    },
    {
      "cell_type": "code",
      "execution_count": null,
      "metadata": {
        "cell_id": "e93bdbbe29114b7f97011c7b519ef85f",
        "deepnote_cell_type": "code",
        "deepnote_to_be_reexecuted": false,
        "execution_millis": 47,
        "execution_start": 1682822931004,
        "id": "kpkNdPT9XWAb",
        "output_cleared": false,
        "source_hash": null,
        "tags": [],
        "vscode": {
          "languageId": "r"
        }
      },
      "outputs": [],
      "source": [
        "## Run this code but do not edit it\n",
        "# Create and display linear model: Weight ~ Length3\n",
        "length3_model <- lm(Weight ~ Length3, data = dat)\n",
        "length3_model"
      ]
    },
    {
      "cell_type": "markdown",
      "metadata": {
        "cell_id": "0015d41a3b594d97a7ff8dc257eb5ef4",
        "deepnote_cell_type": "markdown",
        "id": "bVw7Rw9xXWAb",
        "tags": []
      },
      "source": [
        "The output of the `lm` command is a bit clunky, but here's what it means:\n",
        "- The `(Intercept)` value is the $y-$intercept ($\\theta_{0}$)\n",
        "- The `Length3` value is the coefficient for the predictor. In other words, it's the slope ($\\theta_{1}$)\n",
        "\n",
        "So, our regression equation can be written as:\n",
        "\n",
        "$$\n",
        "\\hat{y} = -593.72 + 31.17x\n",
        "$$"
      ]
    },
    {
      "cell_type": "markdown",
      "metadata": {
        "cell_id": "c41e93eefa3246a59d565b7599d63aae",
        "deepnote_cell_type": "markdown",
        "id": "8mU3v4g8XWAb",
        "tags": []
      },
      "source": [
        "**Question 3.3 -** Identify the slope value and interpret what it means (in context)."
      ]
    },
    {
      "cell_type": "markdown",
      "metadata": {
        "cell_id": "66e37f14338a4ade953a7b7b4bca368b",
        "deepnote_cell_type": "markdown",
        "id": "MlFUAwsEXWAc",
        "tags": []
      },
      "source": [
        "**Double-click this cell to type your answer here:**"
      ]
    },
    {
      "cell_type": "markdown",
      "metadata": {
        "cell_id": "65beb0588f274722aa142c54f471025d",
        "deepnote_cell_type": "markdown",
        "id": "-izbRAuVXWAc",
        "tags": []
      },
      "source": [
        "**Question 3.4 -** Use the `gf_point` and `gf_lm` commands to visualize a linear regression model for predicting `Width` (outcome) using `Length1` (predictor)."
      ]
    },
    {
      "cell_type": "code",
      "execution_count": null,
      "metadata": {
        "cell_id": "4d8c80b66ab042198b141f9e02a7cce5",
        "deepnote_cell_type": "code",
        "deepnote_to_be_reexecuted": false,
        "execution_millis": 374,
        "execution_start": 1682823238860,
        "id": "ShxJ8SX9XWAc",
        "output_cleared": false,
        "source_hash": null,
        "tags": [],
        "vscode": {
          "languageId": "r"
        }
      },
      "outputs": [],
      "source": [
        "## Graph showing model for Weight ~ Width\n",
        "# Type your response below this line\n"
      ]
    },
    {
      "cell_type": "markdown",
      "metadata": {
        "cell_id": "a41d156e6d91436297bc3c6dbbf494f5",
        "deepnote_cell_type": "markdown",
        "id": "RNxcz5xYXWAc",
        "tags": []
      },
      "source": [
        "**Question 3.5 -** Use the `lm` command to find the linear regression model you visualized above. Store the model in an object called `width_model`."
      ]
    },
    {
      "cell_type": "code",
      "execution_count": null,
      "metadata": {
        "cell_id": "a7adc93c93d148329dd4957b71e1e9bb",
        "deepnote_cell_type": "code",
        "deepnote_to_be_reexecuted": false,
        "execution_millis": 14,
        "execution_start": 1682823276135,
        "id": "UftHlB0vXWAc",
        "output_cleared": false,
        "source_hash": null,
        "tags": [],
        "vscode": {
          "languageId": "r"
        }
      },
      "outputs": [],
      "source": [
        "## Linear model for Weight ~ Width\n",
        "# Type your response below this line\n"
      ]
    },
    {
      "cell_type": "markdown",
      "metadata": {
        "cell_id": "cd12528a1ddc47eab620144104a2c754",
        "deepnote_cell_type": "markdown",
        "id": "-eOtT8zZXWAc",
        "tags": []
      },
      "source": [
        "**Question 3.6 -** Indentify the slope value and interpret what it means (in context)."
      ]
    },
    {
      "cell_type": "markdown",
      "metadata": {
        "cell_id": "5204ef502f2944ca9cdd8c0b9a8d352f",
        "deepnote_cell_type": "markdown",
        "id": "TRvR8CTAXWAc",
        "tags": []
      },
      "source": [
        "**Double-click this cell to type your answer here:**"
      ]
    },
    {
      "cell_type": "markdown",
      "metadata": {
        "cell_id": "f40b02b6e0cd42a7a5d5dd3e72dca20d",
        "deepnote_cell_type": "markdown",
        "id": "cBNsnqJIXWAc",
        "tags": []
      },
      "source": [
        "### 4.0 - Analyzing strength $(R^2)$"
      ]
    },
    {
      "cell_type": "markdown",
      "metadata": {
        "cell_id": "41d8f8850bef415c802c52d381ea51d9",
        "deepnote_cell_type": "markdown",
        "id": "tQ3QEQISXWAc",
        "tags": []
      },
      "source": [
        "In addition to the direction of a relationship (positive or negative), we can also look at the **strength** of a relationship. The strength is a measure of the **quality of our model's predictions.** A key metric for analyzing the strength of a model is $R^2$. The following diagram (from <a href = \"https://skewthescript.org/3-3-a\">Skew The Script</a>) shows the $R^2$ values of various linear models:\n",
        "\n",
        "<img src=\"https://skewthescript.org/s/r_squared.PNG\">"
      ]
    },
    {
      "cell_type": "markdown",
      "metadata": {
        "cell_id": "3fc811ba188a4634a5efc2509489f4d0",
        "deepnote_cell_type": "markdown",
        "id": "bxd3hLovXWAc",
        "tags": []
      },
      "source": [
        "In the \"weak\" correlations, we see that our predictions (the linear model) tend to be far away from the actual data values (the points). If we used a model with weak correlation to predict **new** data values, our predictions would have high error. If we used a model with strong correlation to predict **new** data values, our predictions would have low error.\n",
        "\n",
        "$R^2$ takes values between 0 - 1 (alternatively: $0\\% - 100\\%$). The stronger the model, the closer $R^2$ gets to 1 (or $100\\%$). The weaker the model, the closer $R^2$ gets to 0 (or $0\\%$). An intuitive way to think about it: for the perfectly strong correlations, the model gives 100% perfect predictions. The models explain $100\\%$ of the variation in the data, so $R^2 = 100\\%$. As the correlations get weaker, they start leaving room for error, since the models capture less of the variation in the data. So, the $R^2$ value declines from $100\\%$, approaching $0\\%$ if there's no correlation (model adds no prediction power compared to naive guessing)."
      ]
    },
    {
      "cell_type": "markdown",
      "metadata": {
        "cell_id": "c98e986a9ddd4651a91f3f4f0ed4e12b",
        "deepnote_cell_type": "markdown",
        "id": "OS5AHbdrXWAc",
        "tags": []
      },
      "source": [
        "To see the $R^2$ values of our linear regression models, we can use the `summary` command. For example, here we get the `summary` printout of `length3_model` - the modeled we stored that relates `Weight` to `Length3`."
      ]
    },
    {
      "cell_type": "code",
      "execution_count": null,
      "metadata": {
        "cell_id": "baf542c064134dc1b45ba37ef64d3b2a",
        "deepnote_cell_type": "code",
        "deepnote_to_be_reexecuted": false,
        "execution_millis": 1,
        "execution_start": 1682823579140,
        "id": "55aq9Z2PXWAc",
        "output_cleared": false,
        "source_hash": null,
        "tags": [],
        "vscode": {
          "languageId": "r"
        }
      },
      "outputs": [],
      "source": [
        "## Run this code but do not edit it\n",
        "# Summarize Weight ~ Length3 model\n",
        "summary(length3_model)"
      ]
    },
    {
      "cell_type": "markdown",
      "metadata": {
        "cell_id": "9eede2b2cf064ea78209ea9364a2558d",
        "deepnote_cell_type": "markdown",
        "id": "s5ojWO8aXWAc",
        "tags": []
      },
      "source": [
        "There's a lot going on in this printout. For now, focus at the bottom of the printed information. The `Multiple R-squared` value is the $R^2$ value for the model. In this case, $R^2 = 85.68\\%$. So, we can say that the correlation between full body length and weight is relatively strong. This model would yield relatively strong predictions for weight if used to predict on new full body fish lengths."
      ]
    },
    {
      "cell_type": "markdown",
      "metadata": {
        "cell_id": "2c001d0348d04ca2b1f277711bcb8a8b",
        "deepnote_cell_type": "markdown",
        "id": "wWrboOMuXWAc",
        "tags": []
      },
      "source": [
        "**Question 4.1 -** Let's consider a new variable: `Height`. How well does the height of a fish predict its weight? Let's start exploring. Go ahead and create a scatterplot that visualizes the relationship between `Height` (predictor) and `Weight` (outcome). Overlay a linear regression model on the graph."
      ]
    },
    {
      "cell_type": "code",
      "execution_count": null,
      "metadata": {
        "cell_id": "bb7cbf5fa7934a35a68950ab0d00500a",
        "deepnote_cell_type": "code",
        "deepnote_to_be_reexecuted": false,
        "execution_millis": 416,
        "execution_start": 1682823871148,
        "id": "FuCrFajEXWAc",
        "output_cleared": false,
        "source_hash": null,
        "tags": [],
        "vscode": {
          "languageId": "r"
        }
      },
      "outputs": [],
      "source": [
        "## Graph showing model for Weight ~ Height\n",
        "# Type your response below this line\n"
      ]
    },
    {
      "cell_type": "markdown",
      "metadata": {
        "cell_id": "489e66a4b9a94bcfa450aceb13063e7e",
        "deepnote_cell_type": "markdown",
        "id": "12GIf3OHXWAc",
        "tags": []
      },
      "source": [
        "**Question 4.2 -** Use the `lm` command to find the linear regression model you visualized above. Store the model in an object called `height_model`."
      ]
    },
    {
      "cell_type": "code",
      "execution_count": null,
      "metadata": {
        "cell_id": "1815da747a124dd092c5ba16d0c35d5f",
        "deepnote_cell_type": "code",
        "deepnote_to_be_reexecuted": false,
        "execution_millis": 16,
        "execution_start": 1682823913470,
        "id": "oGpeA6ahXWAc",
        "output_cleared": false,
        "source_hash": null,
        "tags": [],
        "vscode": {
          "languageId": "r"
        }
      },
      "outputs": [],
      "source": [
        "## Linear model for Weight ~ Height\n",
        "# Type your response below this line\n",
        "\n"
      ]
    },
    {
      "cell_type": "markdown",
      "metadata": {
        "cell_id": "f661908c267a4defa5d81e0979449969",
        "deepnote_cell_type": "markdown",
        "id": "A7zTLu0uXWAd",
        "tags": []
      },
      "source": [
        "**Question 4.3 -** Use the `summary` command to find the $R^2$ value of your linear model."
      ]
    },
    {
      "cell_type": "code",
      "execution_count": null,
      "metadata": {
        "cell_id": "3c92c9ffe95a4abbbea380745b5f08a9",
        "deepnote_cell_type": "code",
        "deepnote_to_be_reexecuted": false,
        "execution_millis": 14,
        "execution_start": 1682823922262,
        "id": "iKZjozQKXWAd",
        "output_cleared": false,
        "source_hash": null,
        "tags": [],
        "vscode": {
          "languageId": "r"
        }
      },
      "outputs": [],
      "source": [
        "## r_squared for Weight ~ Height\n",
        "# Type your response below this line\n"
      ]
    },
    {
      "cell_type": "markdown",
      "metadata": {
        "cell_id": "953c5a5681754b20863cbcf1dd96f218",
        "deepnote_cell_type": "markdown",
        "id": "LsCxatZfXWAd",
        "tags": []
      },
      "source": [
        "**Question 4.4 -** When attempting to predict the weight of a fish, sceintists will record various measurements. Is this reasonable or is it unecessary? Justify your answers using the $R^2$ values for the `length3_model` and `height_model`."
      ]
    },
    {
      "cell_type": "markdown",
      "metadata": {
        "cell_id": "a84606b5b52a4387a3b0eb1104d95117",
        "deepnote_cell_type": "markdown",
        "id": "gk6sY8KVXWAd",
        "tags": []
      },
      "source": [
        "**Double-click this cell to type your answer here:**"
      ]
    }
  ],
  "metadata": {
    "colab": {
      "provenance": []
    },
    "deepnote": {},
    "deepnote_execution_queue": [],
    "deepnote_notebook_id": "4a9d2a925ab944e1a25acb7b1532ac0b",
    "kernelspec": {
      "display_name": "R",
      "name": "ir"
    },
    "language_info": {
      "name": "R"
    },
    "orig_nbformat": 2
  },
  "nbformat": 4,
  "nbformat_minor": 0
}
