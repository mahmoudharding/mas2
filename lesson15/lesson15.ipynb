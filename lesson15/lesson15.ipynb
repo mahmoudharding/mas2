{
  "cells": [
    {
      "cell_type": "markdown",
      "metadata": {
        "cell_id": "9a0406c7c6f24195ae99ead0ce7207d5",
        "deepnote_cell_type": "markdown",
        "id": "DnwIxwJ-Y9uc",
        "tags": []
      },
      "source": [
        "## Multiple Linear Regression"
      ]
    },
    {
      "cell_type": "code",
      "execution_count": null,
      "metadata": {
        "cell_id": "352c18eba21b410ca6deb90461a7959b",
        "deepnote_cell_type": "code",
        "deepnote_to_be_reexecuted": false,
        "execution_millis": 9881,
        "execution_start": 1690568914835,
        "id": "e7ERGN2wY9ud",
        "output_cleared": false,
        "source_hash": "c414c8a0",
        "tags": [],
        "vscode": {
          "languageId": "r"
        }
      },
      "outputs": [],
      "source": [
        "## Run this code but do not edit it. Hit Ctrl+Enter to run the code.\n",
        "# This command downloads and installs a useful package of R\n",
        "# commands for constructing visualizations\n",
        "install.packages(\"ggformula\", quiet = TRUE, verbose = FALSE)\n",
        "\n",
        "# This command loads useful packages of R commands into your\n",
        "# notebook for manipulating data and constructing visualizations\n",
        "suppressPackageStartupMessages({\n",
        "    library(dplyr)\n",
        "    library(ggplot2)\n",
        "    library(ggformula)\n",
        "})\n",
        "\n",
        "# This command sets the theme for the visualizations in\n",
        "# this notebook\n",
        "theme_set(\n",
        "  theme_light() +\n",
        "  theme(\n",
        "    panel.background = element_rect(fill = \"white\", colour = \"white\"),\n",
        "    plot.background = element_blank(),\n",
        "    axis.line = element_line(color = \"black\")\n",
        "  )\n",
        ")"
      ]
    },
    {
      "cell_type": "markdown",
      "metadata": {
        "cell_id": "f1b1978b12c74c38a15dcdba1029d755",
        "deepnote_cell_type": "markdown",
        "id": "tBfoYSj3Y9ue",
        "tags": []
      },
      "source": [
        "#### The Dataset (`crabs.csv`)\n",
        "In this notebook, we'll be using the `crabs.csv` file, which includes data about different physical attributes measured from crabs found in Boston area.\n",
        "\n",
        "Crab is very tasty and many countries of the world import huge amount of crabs for consumption every year. The main benefits of crab farming are, labor cost is very low, production cost is comparatively lower and they grow very fast. For a commercial crab farmer knowing the right age of the crab helps them decide if and when to harvest it. Beyond a certain age, there is negligible growth in crab's physical characteristics and hence, it is important to time the harvesting to reduce cost and increase profit.\n",
        "\n",
        "##### Variables\n",
        "- `Sex` --> categorical | Male, Female, Indeterminate\n",
        "- `Length` --> quantitative | Length of the Crab (in Feet)\n",
        "- `Diameter` --> quantitative | Diameter of the Crab (in Feet)\n",
        "- `Height` --> quantitative | Height of the Crab (in Feet)\n",
        "- `Weight` --> quantitative | Weight of the Crab (in ounces)\n",
        "- `Shucked.Weight` --> quantitative | Weight without the shell (in ounces)\n",
        "- `Viscera.Weight` --> quantitative | Weight that wraps around your abdominal organs deep inside body (in ounces)\n",
        "- `Shell.Weight` --> quantitative | Weight of the Shell (in ounces)\n",
        "- `Age` --> quantitative | Age of the crab (in months)\n",
        "\n",
        "##### Detailed description and notes can be found <a href=\"https://www.kaggle.com/dsv/2834512\">here</a>."
      ]
    },
    {
      "cell_type": "markdown",
      "metadata": {
        "cell_id": "e061e7fc70814e51af9f0c59ce29c4e0",
        "deepnote_cell_type": "markdown",
        "id": "x8Gk1t6YY9ue",
        "tags": []
      },
      "source": [
        "### 1.0 - Exploratory Data Analysis"
      ]
    },
    {
      "cell_type": "markdown",
      "metadata": {
        "cell_id": "35dd3b1d8aa442ceb527c2f10862fd5f",
        "deepnote_cell_type": "markdown",
        "id": "NYDDIKwWY9ue",
        "tags": []
      },
      "source": [
        "To begin, let's download our data. We'll download the `crabs.csv` file and store it in an R dataframe called `dat`."
      ]
    },
    {
      "cell_type": "code",
      "execution_count": null,
      "metadata": {
        "cell_id": "1ff7e3ca07104431ac6eeee196156206",
        "deepnote_cell_type": "code",
        "deepnote_to_be_reexecuted": false,
        "execution_millis": 171,
        "execution_start": 1690568924579,
        "id": "8SSbTZs8Y9ue",
        "output_cleared": false,
        "source_hash": "9c7e34e5",
        "tags": [],
        "vscode": {
          "languageId": "r"
        }
      },
      "outputs": [],
      "source": [
        "## Run this code but do not edit it. Hit Ctrl+Enter to run the code.\n",
        "# This command saves the crabs.csv to a dataframe\n",
        "url <- 'https://raw.githubusercontent.com/mahmoudharding/mas2/main/lesson15/data/crabs.csv'\n",
        "dat <- read.csv(url)"
      ]
    },
    {
      "cell_type": "markdown",
      "metadata": {
        "cell_id": "b4bab9ead3e84004a4ce36786c1b6029",
        "deepnote_cell_type": "markdown",
        "id": "xbCPCBpNY9uf",
        "tags": []
      },
      "source": [
        "**Question 1.1 -** Use the `head` command to print out the first several rows of the dataset."
      ]
    },
    {
      "cell_type": "code",
      "execution_count": null,
      "metadata": {
        "cell_id": "9ba3b081a2934f809851ddcc6ad9cda8",
        "deepnote_cell_type": "code",
        "deepnote_to_be_reexecuted": false,
        "execution_millis": 129,
        "execution_start": 1690568924621,
        "id": "dGywkEkHY9uf",
        "output_cleared": false,
        "source_hash": "be7fd7f7",
        "tags": [],
        "vscode": {
          "languageId": "r"
        }
      },
      "outputs": [],
      "source": [
        "## Print head of dataset\n",
        "# Type your response below this line\n"
      ]
    },
    {
      "cell_type": "markdown",
      "metadata": {
        "cell_id": "12371225841641a1b13b28fb7035310c",
        "deepnote_cell_type": "markdown",
        "id": "w9rdOPj-Y9uf",
        "tags": []
      },
      "source": [
        "**Question 1.2 -** Use the `dim` command to find the number of crabs (rows) and number of variables (columns) in our data set."
      ]
    },
    {
      "cell_type": "code",
      "execution_count": null,
      "metadata": {
        "cell_id": "4656a70c9ca54413b5bbf8aee7923da7",
        "deepnote_cell_type": "code",
        "deepnote_to_be_reexecuted": false,
        "execution_millis": 54,
        "execution_start": 1690568924622,
        "id": "6WOUg4UiY9uf",
        "output_cleared": false,
        "source_hash": "ae0c7d14",
        "tags": [],
        "vscode": {
          "languageId": "r"
        }
      },
      "outputs": [],
      "source": [
        "## Get dimensions of dataset\n",
        "# Type your response below this line\n"
      ]
    },
    {
      "cell_type": "markdown",
      "metadata": {
        "cell_id": "d6673080c38f49d5beb0047dd1ec49ae",
        "deepnote_cell_type": "markdown",
        "id": "z4FlZ0vQY9uf",
        "tags": []
      },
      "source": [
        "A good measure to use to predict the age of a crab could be to use it's total weight (including the shell). When analyzing variables of interest (`Weight`, `Age`), it's often helpful to calculate summary statistics. For quantitative variables, we can use the summary command to find the five-number summary (minimum, Q1, median, Q3, maximum) and the average (mean) of the values. The code block shows how we find these summary statistics for the `Weight` variable.\n",
        "\n",
        "**Note:** The `$` sign in R is used to isolate a single variable (`Weight`) from a dataframe (`dat`)."
      ]
    },
    {
      "cell_type": "code",
      "execution_count": null,
      "metadata": {
        "cell_id": "977ddf88465a45c5b5fbaa8bef20d863",
        "deepnote_cell_type": "code",
        "deepnote_to_be_reexecuted": false,
        "execution_millis": 116,
        "execution_start": 1690568924659,
        "id": "FcLRJXo1Y9uf",
        "source_hash": "8a16220a",
        "vscode": {
          "languageId": "r"
        }
      },
      "outputs": [],
      "source": [
        "## Run this code but do not edit it\n",
        "# Find summary statistics for Weight\n",
        "summary(dat$Weight)"
      ]
    },
    {
      "cell_type": "markdown",
      "metadata": {
        "cell_id": "c998d0a970eb459592077b65235a6cbb",
        "deepnote_cell_type": "markdown",
        "id": "NO45lHsiY9uf"
      },
      "source": [
        "**Question 1.3 -** Comment on what these summary statistics reveal about the `Weight` values in our dataset."
      ]
    },
    {
      "cell_type": "markdown",
      "metadata": {
        "cell_id": "c768d0e7e35e43d59491be49f41a95a2",
        "deepnote_cell_type": "markdown",
        "id": "LJ8umlAnY9uf"
      },
      "source": [
        "**Double-click this cell to type your answer here:**"
      ]
    },
    {
      "cell_type": "markdown",
      "metadata": {
        "cell_id": "e6fec6839a2042dea5e24288085bde9f",
        "deepnote_cell_type": "markdown",
        "id": "Pb3g9ioZY9uf"
      },
      "source": [
        "Now let's examine `Length`. First we'll look at the summary statstics."
      ]
    },
    {
      "cell_type": "markdown",
      "metadata": {
        "cell_id": "70305bbbc530435180973f3f8f061105",
        "deepnote_cell_type": "markdown",
        "id": "Nzpt3rw0Y9uf"
      },
      "source": [
        "**Question 1.4 -** Use the `summary` command to find the 5 number summary for the variable `Length`."
      ]
    },
    {
      "cell_type": "code",
      "execution_count": null,
      "metadata": {
        "cell_id": "f282a274bb7e49539d13995861561380",
        "deepnote_cell_type": "code",
        "deepnote_to_be_reexecuted": false,
        "execution_millis": 59,
        "execution_start": 1690568924716,
        "id": "6LVQszc2Y9uf",
        "source_hash": "acaff451",
        "vscode": {
          "languageId": "r"
        }
      },
      "outputs": [],
      "source": [
        "## Find summary statistics for Length\n",
        "# Type your response below this line\n"
      ]
    },
    {
      "cell_type": "markdown",
      "metadata": {
        "cell_id": "ffc215a2dd874526af8fde2af1504a6b",
        "deepnote_cell_type": "markdown",
        "id": "AR7TtN-UY9uf"
      },
      "source": [
        "**Question 1.5 -** Comment on what these summary statistics reveal about the `Length` values in our dataset."
      ]
    },
    {
      "cell_type": "markdown",
      "metadata": {
        "cell_id": "4d2f8186b35a48208b0787f7b07a8095",
        "deepnote_cell_type": "markdown",
        "id": "PTVo6qTHY9uf"
      },
      "source": [
        "**Double-click this cell to type your answer here:**"
      ]
    },
    {
      "cell_type": "markdown",
      "metadata": {
        "cell_id": "64627581213047088514dd11bdd735d6",
        "deepnote_cell_type": "markdown",
        "id": "Stm63L9sY9uf"
      },
      "source": [
        "It is also helpful to visualize the distribution of a quantitative variable. This can be useful in determining if the values are normally distributed or skewed (right or left). First we'll take a look at the distribution of the outcome variable `Weight`."
      ]
    },
    {
      "cell_type": "code",
      "execution_count": null,
      "metadata": {
        "cell_id": "2a63a75be44845a58dd9bb95395160ba",
        "deepnote_cell_type": "code",
        "deepnote_to_be_reexecuted": false,
        "execution_millis": 825,
        "execution_start": 1690568924751,
        "id": "2B6GzWaVY9uf",
        "source_hash": "bb9970bb",
        "vscode": {
          "languageId": "r"
        }
      },
      "outputs": [],
      "source": [
        "## Run this code but do not edit it\n",
        "# Create histogram for Weight\n",
        "gf_histogram(~Weight, data = dat, fill = 'turquoise', color = 'black')"
      ]
    },
    {
      "cell_type": "markdown",
      "metadata": {
        "cell_id": "ea003b976f7d4805808d1008c0be43ea",
        "deepnote_cell_type": "markdown",
        "id": "snpkx09vY9uf"
      },
      "source": [
        "As we suspected from the summary statistics, it appears that most of the crabs weigh less than 32 ounces. The distribution appears to have a small tail to the right, but overall it looks relatively symmetrical. Now let's take a look at the distribution of the `Length` variable."
      ]
    },
    {
      "cell_type": "code",
      "execution_count": null,
      "metadata": {
        "cell_id": "0fce0151ef2e480486b0c35f91360839",
        "deepnote_cell_type": "code",
        "deepnote_to_be_reexecuted": false,
        "execution_millis": 757,
        "execution_start": 1690568925411,
        "id": "6-oUQY1LY9uf",
        "source_hash": "3ef98509",
        "vscode": {
          "languageId": "r"
        }
      },
      "outputs": [],
      "source": [
        "## Run this code but do not edit it\n",
        "# Create histogram for Length\n",
        "gf_histogram(~Length, data = dat, fill = 'turquoise', color = 'black')"
      ]
    },
    {
      "cell_type": "markdown",
      "metadata": {
        "cell_id": "c2f9716e6f804601a0570fa39c30c496",
        "deepnote_cell_type": "markdown",
        "id": "2ZzKY3WBY9uf"
      },
      "source": [
        "**Question 1.6 -** Comment on what the histogram reveals about the `Length3` values in our dataset."
      ]
    },
    {
      "cell_type": "markdown",
      "metadata": {
        "cell_id": "f9e43a8898dc4a7995323702b110cd15",
        "deepnote_cell_type": "markdown",
        "id": "OA-PCc2LY9uf"
      },
      "source": [
        "**Double-click this cell to type your answer here:**"
      ]
    },
    {
      "cell_type": "markdown",
      "metadata": {
        "cell_id": "257452a7c94e41ccbff6ba5a2e1343d5",
        "deepnote_cell_type": "markdown",
        "id": "a_YOhEorY9uf"
      },
      "source": [
        "For categorical data, it doesn't make sense to find means and medians. Instead, it's helpful to look at value counts and proportions. We can use the `table` command to find the counts of the different values for `Sex`:"
      ]
    },
    {
      "cell_type": "code",
      "execution_count": null,
      "metadata": {
        "cell_id": "e0168db33cd243f4ad66f540904e92e1",
        "deepnote_cell_type": "code",
        "deepnote_to_be_reexecuted": false,
        "execution_millis": 29,
        "execution_start": 1690568925971,
        "id": "2sqGb39wY9uf",
        "source_hash": "4ccadcc1",
        "vscode": {
          "languageId": "r"
        }
      },
      "outputs": [],
      "source": [
        "## Run this code but do not edit it\n",
        "# Find counts of values for different sexes of crabs\n",
        "sex_counts <- table(dat$Sex)\n",
        "sex_counts"
      ]
    },
    {
      "cell_type": "markdown",
      "metadata": {
        "cell_id": "4f77cc16e90f4899808878fa4d482ed9",
        "deepnote_cell_type": "markdown",
        "id": "oM_kyQ8OY9ug"
      },
      "source": [
        "To get a better sense of scale, we can turn these raw counts into proportions by dividing them by the total:"
      ]
    },
    {
      "cell_type": "code",
      "execution_count": null,
      "metadata": {
        "cell_id": "bcb02eb6c5394e94ac8fcf9956a93c16",
        "deepnote_cell_type": "code",
        "deepnote_to_be_reexecuted": false,
        "execution_millis": 34,
        "execution_start": 1690568925987,
        "id": "6HFWPRbFY9ug",
        "source_hash": "c79168c1",
        "vscode": {
          "languageId": "r"
        }
      },
      "outputs": [],
      "source": [
        "## Run this code but do not edit it\n",
        "# Find the total by summing of all counts in table\n",
        "total <- sum(sex_counts)\n",
        "\n",
        "# Find the proportions for time by dividing table by total\n",
        "sex_counts / total"
      ]
    },
    {
      "cell_type": "markdown",
      "metadata": {
        "cell_id": "afc20f6a259a4a22a50568ace597b9ab",
        "deepnote_cell_type": "markdown",
        "id": "9TjGOFOTY9ug"
      },
      "source": [
        "**Question 1.7 -** Comment on the proportion of sex."
      ]
    },
    {
      "cell_type": "markdown",
      "metadata": {
        "cell_id": "09611d313d5943c69ec5a098aa7778c6",
        "deepnote_cell_type": "markdown",
        "id": "-E9Ifc_HY9ug"
      },
      "source": [
        "**Double-click this cell to type your answer here:**"
      ]
    },
    {
      "cell_type": "markdown",
      "metadata": {
        "cell_id": "0e4a0d183abb47b4b7358155cc9f4c7b",
        "deepnote_cell_type": "markdown",
        "id": "YwM2vJjzY9ug"
      },
      "source": [
        "Finally, to get a sense of how the weights and lengths are distributed across the various sexes we can create a box plot."
      ]
    },
    {
      "cell_type": "code",
      "execution_count": null,
      "metadata": {
        "cell_id": "b57e9d0ad6a04a16828737561508cbff",
        "deepnote_cell_type": "code",
        "deepnote_to_be_reexecuted": false,
        "execution_millis": 865,
        "execution_start": 1690568926012,
        "id": "b65dxbE4Y9ug",
        "source_hash": "ddc8fc6d",
        "vscode": {
          "languageId": "r"
        }
      },
      "outputs": [],
      "source": [
        "## Run this code but do not edit it\n",
        "# Create boxplots for weight for the different sexes\n",
        "gf_boxplot(Weight ~ Sex, data = dat, fill = 'turquoise', color = 'black')"
      ]
    },
    {
      "cell_type": "markdown",
      "metadata": {
        "cell_id": "cb7dbdb6c981486aa6db2aee432e22a2",
        "deepnote_cell_type": "markdown",
        "id": "XqgVjTHoY9ug"
      },
      "source": [
        "In this case, we're using `Sex` as the **predictor variable** and `Weight` as the **outcome variable**. In other words, we can use the sex of a crab (Male, Female, Indeterminate) to help predict its weight. That's because weights of different sexes of crabs are not the same. So, knowing the sex of a crab can help us better predict its weight.\n",
        "\n",
        "**Note:** This predictor-outcome relationship is coded in R through the syntax `outcome ~ predictor`, as in `gf_boxplot(Weight ~ Sex,...)`.\n",
        "\n",
        "We see that weight for male and female seem to have a similar distribution. The median weight for female crabs is slightly higher than male crabs. The minimum weight for the male crabs appears lower than female crabs. The crabs whose sex is indeterminate, have weights that are lower than the male and female crabs. We also notice that amongst all sexes there are a number of outliers."
      ]
    },
    {
      "cell_type": "markdown",
      "metadata": {
        "cell_id": "0211ed91dd924e9b8775eb9f02d8fd38",
        "deepnote_cell_type": "markdown",
        "id": "qPxcnKqJY9ug",
        "tags": []
      },
      "source": [
        "### 2.0 - Scatter Plots"
      ]
    },
    {
      "cell_type": "markdown",
      "metadata": {
        "cell_id": "dc04f19f935043e0b3ce39059541ba5d",
        "deepnote_cell_type": "markdown",
        "id": "3rwV9SDHY9ug"
      },
      "source": [
        "So, our main **outcome variable** in this analysis will be `Age`. We're going to use scatterplots to see how strongly different **predictor variables** correlate with weight. In particular, we're to explore how well each of the following variables predicts weight:\n",
        "\n",
        "- `Weight`\n",
        "- `Length`\n",
        "- `Height`\n",
        "- `Diameter`\n",
        "\n",
        "To begin, let's create a **scatterplot** of `Age` and the `Length`. We can use the `gf_point` command to make the graph:"
      ]
    },
    {
      "cell_type": "code",
      "execution_count": null,
      "metadata": {
        "cell_id": "2f6fa33fe4d642728abb82f08d7aa1f7",
        "deepnote_cell_type": "code",
        "deepnote_to_be_reexecuted": false,
        "execution_millis": 1623,
        "execution_start": 1690568926658,
        "id": "lOU1dTmCY9ug",
        "output_cleared": false,
        "source_hash": "cf1d6241",
        "tags": [],
        "vscode": {
          "languageId": "r"
        }
      },
      "outputs": [],
      "source": [
        "## Run this code but do not edit it.\n",
        "# Create scatterplot: Age ~ Weight\n",
        "gf_point(Age ~ Length, data = dat)"
      ]
    },
    {
      "cell_type": "markdown",
      "metadata": {
        "cell_id": "e7ffc9c53fd44b25ac7daf15cb704b1e",
        "deepnote_cell_type": "markdown",
        "id": "mCFc2Od1Y9ug",
        "tags": []
      },
      "source": [
        "**Question 2.1 -** Using your scatterplot, describe the relationship between `Age` and `Length`. For instance, are these variables positively or negatively related? How can you tell? Explain."
      ]
    },
    {
      "cell_type": "markdown",
      "metadata": {
        "cell_id": "250cc1f8bf8f4d2192e22677025e1d4e",
        "deepnote_cell_type": "markdown",
        "id": "kLwmuH5aY9ug",
        "tags": []
      },
      "source": [
        "**Double-click this cell to type your answer here:**"
      ]
    },
    {
      "cell_type": "markdown",
      "metadata": {
        "cell_id": "e2f398710e0a4185a73ce89379e67b2c",
        "deepnote_cell_type": "markdown",
        "id": "4qfwLk-SY9uk",
        "tags": []
      },
      "source": [
        "### 3.0 - Simple Linear Regression (one predictor)"
      ]
    },
    {
      "cell_type": "markdown",
      "metadata": {
        "cell_id": "73fa6b11c86b43a984e42178a156e1ba",
        "deepnote_cell_type": "markdown",
        "id": "cip3_BxRY9uk"
      },
      "source": [
        "**3.1 -** Watch <a href=\"https://youtu.be/hvWgu4A0VA4\">this video</a>, which provides an introduction to simple linear regression.\n",
        "\n",
        "**Note:** This video is adapted from other materials and covers data from a separate context. However, the video provides a good intro to the concepts and models we'll be using in this section of the project."
      ]
    },
    {
      "cell_type": "markdown",
      "metadata": {
        "cell_id": "a91f8781e6de45439811c1ce26b0db0e",
        "deepnote_cell_type": "markdown",
        "id": "7ZGqjSiNY9uk",
        "tags": []
      },
      "source": [
        "Let's create a linear regression model relating `Weight` $(x)$ and `Age` $(y)$. To visualize our model, we can graph the line modeled by our equation on top of the scatterplot relating `Weight` to `Age`. We use the `gf_point` command to produce the scatterplot, the `gf_lm` command to graph our linear model, and a `%>%` symbol to put the elements together on the same graph:"
      ]
    },
    {
      "cell_type": "code",
      "execution_count": null,
      "metadata": {
        "cell_id": "2a0d39a06d3c47bf888d0f5bcc5f2cd8",
        "deepnote_cell_type": "code",
        "deepnote_to_be_reexecuted": false,
        "execution_millis": 1464,
        "execution_start": 1690568927973,
        "id": "vPygRAABY9uk",
        "source_hash": "b5faf0d",
        "vscode": {
          "languageId": "r"
        }
      },
      "outputs": [],
      "source": [
        "## Run this code but do not edit it\n",
        "# Overlay linear model of Age ~ Weight on top of scatterplot\n",
        "gf_point(Age ~ Weight, data = dat) %>% gf_lm(color = \"red\")"
      ]
    },
    {
      "cell_type": "markdown",
      "metadata": {
        "cell_id": "7d9209781f20467dbebd4f1ce1c8e1ef",
        "deepnote_cell_type": "markdown",
        "id": "vlBc7TXYY9uk",
        "tags": []
      },
      "source": [
        "**Question 3.2 -** Would the slope value of the linear regression model for these data be positive or negative? How can you tell?"
      ]
    },
    {
      "cell_type": "markdown",
      "metadata": {
        "cell_id": "04a784b11799468f952a986f0951321f",
        "deepnote_cell_type": "markdown",
        "id": "ztp5Ft35Y9uk",
        "tags": []
      },
      "source": [
        "**Double-click this cell to type your answer here:**"
      ]
    },
    {
      "cell_type": "markdown",
      "metadata": {
        "cell_id": "40408bacb7b14c52a5f202c543adb980",
        "deepnote_cell_type": "markdown",
        "id": "zbKRYDhwY9uk",
        "tags": []
      },
      "source": [
        "R can help us find the equation that models this linear regression line. We can model a linear trend between a predictor ($x$) and outcome ($y$) using this linear regression formula:\n",
        "\n",
        "$$\n",
        "\\hat{y} = \\theta_{0} + \\theta_{1}x\n",
        "$$\n",
        "Where:\n",
        "- $\\hat{y}$ is the predicted $y-$value (predicted outcome value)\n",
        "- $\\theta_{0}$ is the $y-$intercept $\\rightarrow$ the predicted $y-$value (outcome value) when $x=0$ (the predictor's value is 0)\n",
        "- $\\theta_{1}$ is the slope $\\rightarrow$ the predicted change in $y$ (outcome) for a 1-unit increase in $x$ (predictor)\n",
        "- $x$ is the $x-$value (predictor value)\n",
        "\n",
        "To fit a linear regression model to a set of data in R, we use the `lm` command. `lm` standars for \"linear model.\" Here, we use `lm` to find the linear regression model relating `Weight` ($x$) and `Age` ($y$)."
      ]
    },
    {
      "cell_type": "code",
      "execution_count": null,
      "metadata": {
        "cell_id": "9d5a03053bf841529f0f38aad866679d",
        "deepnote_cell_type": "code",
        "deepnote_to_be_reexecuted": false,
        "execution_millis": 34,
        "execution_start": 1690568929402,
        "id": "3nid8KeuY9uk",
        "output_cleared": false,
        "source_hash": "16d1a417",
        "tags": [],
        "vscode": {
          "languageId": "r"
        }
      },
      "outputs": [],
      "source": [
        "## Run this code but do not edit it\n",
        "# Create and display linear model: Age ~ Weight\n",
        "weight_model <- lm(Age ~ Weight, data = dat)\n",
        "weight_model"
      ]
    },
    {
      "cell_type": "markdown",
      "metadata": {
        "cell_id": "9f16e6858a8e43cf85a5d27a5407f079",
        "deepnote_cell_type": "markdown",
        "id": "dPTa6k1tY9uk",
        "tags": []
      },
      "source": [
        "The output of the `lm` command is a bit clunky, but here's what it means:\n",
        "- The `(Intercept)` value is the $y-$intercept ($\\theta_{0}$)\n",
        "- The `Weight` value is the coefficient for the predictor. In other words, it's the slope ($\\theta_{1}$)\n",
        "\n",
        "So, our regression equation can be written as:\n",
        "\n",
        "$$\n",
        "\\hat{y} = 7.0104 + 0.1249x\n",
        "$$"
      ]
    },
    {
      "cell_type": "markdown",
      "metadata": {
        "cell_id": "4e83f0cb09a642b296a816acb244f43e",
        "deepnote_cell_type": "markdown",
        "id": "ndx9P0SmY9uk",
        "tags": []
      },
      "source": [
        "**Question 3.3 -** Identify the slope value and interpret what it means (in context)."
      ]
    },
    {
      "cell_type": "markdown",
      "metadata": {
        "cell_id": "9a5938a79d2340de84a841c4574ad347",
        "deepnote_cell_type": "markdown",
        "id": "gpwqEE-0Y9uk",
        "tags": []
      },
      "source": [
        "**Double-click this cell to type your answer here:**"
      ]
    },
    {
      "cell_type": "markdown",
      "metadata": {
        "cell_id": "7cde9c88c4634faa9ec8eec3b4703bef",
        "deepnote_cell_type": "markdown",
        "id": "iHYSvClaY9uk",
        "tags": []
      },
      "source": [
        "**Question 3.4 -** Use the `gf_point` and `gf_lm` commands to visualize a linear regression model for predicting `Age` (outcome) using `Height` (predictor)."
      ]
    },
    {
      "cell_type": "code",
      "execution_count": null,
      "metadata": {
        "cell_id": "ad6a2da8a4f54624a7a6b8ba48899d40",
        "deepnote_cell_type": "code",
        "deepnote_to_be_reexecuted": false,
        "execution_millis": 32,
        "execution_start": 1690568929403,
        "id": "wiJauC-wY9uk",
        "output_cleared": false,
        "source_hash": "87cc83fb",
        "tags": [],
        "vscode": {
          "languageId": "r"
        }
      },
      "outputs": [],
      "source": [
        "## Graph showing model for Age ~ Height\n",
        "# Type your response below this line\n"
      ]
    },
    {
      "cell_type": "markdown",
      "metadata": {
        "cell_id": "69bb199d99414e62a8ee7b2941f7fc07",
        "deepnote_cell_type": "markdown",
        "id": "vAWl4RRqY9uk",
        "tags": []
      },
      "source": [
        "**Question 3.5 -** Using your scatterplot, describe the relationship between `Age` and `Height`. For instance, are these variables positively or negatively related? How can you tell? Explain."
      ]
    },
    {
      "cell_type": "markdown",
      "metadata": {
        "cell_id": "0279035219054a36836638cffd9a3e3a",
        "deepnote_cell_type": "markdown",
        "id": "CNMLkbzXY9uk"
      },
      "source": [
        "**Double-click this cell to type your answer here:**"
      ]
    },
    {
      "cell_type": "markdown",
      "metadata": {
        "cell_id": "24133ec196704d4aa1ad0a3bc854e061",
        "deepnote_cell_type": "markdown",
        "id": "nXKl-iLPY9uk"
      },
      "source": [
        "**Question 3.6 -** Use the `lm` command to find the linear regression model you visualized above. Store the model in an object called `height_model`."
      ]
    },
    {
      "cell_type": "code",
      "execution_count": null,
      "metadata": {
        "cell_id": "b53380f8a9854c84b6b5c941e2bb593d",
        "deepnote_cell_type": "code",
        "deepnote_to_be_reexecuted": false,
        "execution_millis": 21,
        "execution_start": 1690568949278,
        "id": "yaKawgYCY9uk",
        "output_cleared": false,
        "source_hash": "d5fe5d79",
        "tags": [],
        "vscode": {
          "languageId": "r"
        }
      },
      "outputs": [],
      "source": [
        "## Linear model for Age ~ Height\n",
        "# Type your response below this line\n"
      ]
    },
    {
      "cell_type": "markdown",
      "metadata": {
        "cell_id": "7c363c64c1434c7a82f6215edfc732e6",
        "deepnote_cell_type": "markdown",
        "id": "iVyh_JR6Y9uk",
        "tags": []
      },
      "source": [
        "**Question 3.7 -** Indentify the slope value and interpret what it means (in context)."
      ]
    },
    {
      "cell_type": "markdown",
      "metadata": {
        "cell_id": "4d00d3d979ca4169b7416c134d72203c",
        "deepnote_cell_type": "markdown",
        "id": "TnMQAuxkY9uk",
        "tags": []
      },
      "source": [
        "**Double-click this cell to type your answer here:**"
      ]
    },
    {
      "cell_type": "markdown",
      "metadata": {
        "cell_id": "4868e5ed73824feda1fd6f95f51f014d",
        "deepnote_cell_type": "markdown",
        "id": "iszMypCiY9uk",
        "tags": []
      },
      "source": [
        "### 4.0 - Analyzing strength $(R^2)$"
      ]
    },
    {
      "cell_type": "markdown",
      "metadata": {
        "cell_id": "02518258140b4507bf30baf14329cbc0",
        "deepnote_cell_type": "markdown",
        "id": "R0EK3LrtY9uk",
        "tags": []
      },
      "source": [
        "In addition to the direction of a relationship (positive or negative), we can also look at the **strength** of a relationship. The strength is a measure of the **quality of our model's predictions.** A key metric for analyzing the strength of a model is $R^2$. The following diagram (from <a href = \"https://skewthescript.org/3-3-a\">Skew The Script</a>) shows the $R^2$ values of various linear models:\n",
        "\n",
        "<img src=\"https://skewthescript.org/s/r_squared.PNG\">"
      ]
    },
    {
      "cell_type": "markdown",
      "metadata": {
        "cell_id": "61cc7b55aa1046ff8023bd106e6d6a3e",
        "deepnote_cell_type": "markdown",
        "id": "OC_W-6iUY9uk",
        "tags": []
      },
      "source": [
        "In the \"weak\" correlations, we see that our predictions (the linear model) tend to be far away from the actual data values (the points). If we used a model with weak correlation to predict **new** data values, our predictions would have high error. If we used a model with strong correlation to predict **new** data values, our predictions would have low error.\n",
        "\n",
        "$R^2$ takes values between 0 - 1 (alternatively: $0\\% - 100\\%$). The stronger the model, the closer $R^2$ gets to 1 (or 100%). The weaker the model, the closer $R^2$ gets to 0 (or $0\\%$). An intuitive way to think about it: for the perfectly strong correlations, the model gives 100% perfect predictions. The models explain $100\\%$ of the variation in the data, so $R^2 = 100\\%$. As the correlations get weaker, they start leaving room for error, since the models capture less of the variation in the data. So, the $R^2$ value declines from 100%, approaching $0\\%$ if there's no correlation (model adds no prediction power compared to naive guessing).\n",
        "\n",
        "**Optional Resource:** If you'd like a more thorough explanation of the math behind $R^2$, check out <a href=\"https://youtu.be/bMccdk8EdGo\">this video</a>."
      ]
    },
    {
      "cell_type": "markdown",
      "metadata": {
        "cell_id": "a0555c63e4bb4340b32b385987c40692",
        "deepnote_cell_type": "markdown",
        "id": "MuXBmRGcY9ul",
        "tags": []
      },
      "source": [
        "To see the $R^2$ values of our linear regression models, we can use the `summary` command. For example, here we get the `summary` printout of `height_model` - the modeled we stored that relates `Age` to `Height`."
      ]
    },
    {
      "cell_type": "code",
      "execution_count": null,
      "metadata": {
        "cell_id": "5a23263ea3a643b7b7bdd7d9ae7dabcd",
        "deepnote_cell_type": "code",
        "deepnote_to_be_reexecuted": false,
        "execution_millis": 43,
        "execution_start": 1690568955290,
        "id": "NlyKMnpfY9ul",
        "output_cleared": false,
        "source_hash": "fb9eea6f",
        "tags": [],
        "vscode": {
          "languageId": "r"
        }
      },
      "outputs": [],
      "source": [
        "## Run this code but do not edit it\n",
        "# Summarize Age ~ Height model\n",
        "summary(height_model)"
      ]
    },
    {
      "cell_type": "markdown",
      "metadata": {
        "cell_id": "0315b54915984fe6bf2477351eacf96e",
        "deepnote_cell_type": "markdown",
        "id": "Uv3MPr6fY9ul",
        "tags": []
      },
      "source": [
        "There's a lot going on in this printout. For now, focus at the bottom of the printed information. The `Multiple R-squared` value is the $R^2$ value for the model. In this case, $R^2 = 29.03\\%$. So, we can say that the correlation between the age and length is relatively weak. This model would yield relatively weak predictions for age if used to predict on new crab lengths."
      ]
    },
    {
      "cell_type": "markdown",
      "metadata": {
        "cell_id": "83dd3c1f4d554b2fad01bd1853b791bf",
        "deepnote_cell_type": "markdown",
        "id": "dbxVjP7dY9ul"
      },
      "source": [
        "It's reasonable to assume that the length could be a better than height as a predictor for age. Additionally, it's may be easier to measure (even estimate for that matter) the length of a crab. Let's examine a model that uses length to predict the age."
      ]
    },
    {
      "cell_type": "code",
      "execution_count": null,
      "metadata": {
        "cell_id": "7deecd1a062047a987263d86582bb58e",
        "deepnote_cell_type": "code",
        "id": "jyyRM5ZmY9ul",
        "vscode": {
          "languageId": "r"
        }
      },
      "outputs": [],
      "source": [
        "## Run this code but do not edit it\n",
        "# Create and display linear model: Age ~ Length\n",
        "length_model <- lm(Age ~ Length, data = dat)\n",
        "length_model"
      ]
    },
    {
      "cell_type": "markdown",
      "metadata": {
        "cell_id": "c3958e0c0426443dbcda54f40388e376",
        "deepnote_cell_type": "markdown",
        "id": "z3anZPPSY9ul"
      },
      "source": [
        "This model has a slope value of 5.95. We can interpret this value to mean that for every 1 feet increase in length, we can expect about a 6 month increase in age. Since the majority of the crabs in the dataset are less than 1 foot, this particular interpretation may not be a useful."
      ]
    },
    {
      "cell_type": "markdown",
      "metadata": {
        "cell_id": "9032ae35d20e4fad9335c6abe8c239ae",
        "deepnote_cell_type": "markdown",
        "id": "NKBBtd6QY9ul"
      },
      "source": [
        "Let's view the $R^2$ value for this model."
      ]
    },
    {
      "cell_type": "code",
      "execution_count": null,
      "metadata": {
        "cell_id": "32e2b07dea384871bd1669f016877628",
        "deepnote_cell_type": "code",
        "id": "MqRkaZVAY9ul",
        "vscode": {
          "languageId": "r"
        }
      },
      "outputs": [],
      "source": [
        "## Run this code but do not edit it\n",
        "# Summarize Age ~ Length model\n",
        "summary(length_model)"
      ]
    },
    {
      "cell_type": "markdown",
      "metadata": {
        "cell_id": "456961f9a74f49df893f3eed63535846",
        "deepnote_cell_type": "markdown",
        "id": "KP25lyY_Y9ul"
      },
      "source": [
        "What do you notice? Discuss the summary information from the `length_model` with one of your classmates."
      ]
    },
    {
      "cell_type": "markdown",
      "metadata": {
        "cell_id": "88608c5363324334a9fd69e34e2ccce6",
        "deepnote_cell_type": "markdown",
        "id": "I_QN4juSY9ul",
        "tags": []
      },
      "source": [
        "**Question 4.1 -** Let's consider a new variable: `Diameter`. How well does the diameter of a crab predict its age? Let's start exploring. Go ahead and create a scatterplot that visualizes the relationship between `Diameter` (predictor) and `Age` (outcome). Overlay a linear regression model on the graph."
      ]
    },
    {
      "cell_type": "code",
      "execution_count": null,
      "metadata": {
        "cell_id": "a6bf761691dc42c4adc1eb05874f95c6",
        "deepnote_cell_type": "code",
        "deepnote_to_be_reexecuted": false,
        "execution_millis": 1411,
        "execution_start": 1690569184067,
        "id": "Q3dentZ9Y9ul",
        "output_cleared": false,
        "source_hash": "7e0595c",
        "tags": [],
        "vscode": {
          "languageId": "r"
        }
      },
      "outputs": [],
      "source": [
        "## Graph showing model for Weight ~ Height\n",
        "# Type your response below this line\n"
      ]
    },
    {
      "cell_type": "markdown",
      "metadata": {
        "cell_id": "524de73dcc6e44b7880c8392a53a7ca9",
        "deepnote_cell_type": "markdown",
        "id": "MgI-LGiLY9ul",
        "tags": []
      },
      "source": [
        "**Question 4.2 -** Use the `lm` command to find the linear regression model you visualized above. Store the model in an object called `diameter_model`."
      ]
    },
    {
      "cell_type": "code",
      "execution_count": null,
      "metadata": {
        "cell_id": "79d01d7213da42669a415413304ee1b7",
        "deepnote_cell_type": "code",
        "deepnote_to_be_reexecuted": true,
        "execution_millis": 112,
        "execution_start": 1683238020048,
        "id": "UCfNwAQbY9ul",
        "output_cleared": false,
        "source_hash": "5905e033",
        "tags": [],
        "vscode": {
          "languageId": "r"
        }
      },
      "outputs": [],
      "source": [
        "## Linear model for Age ~ Diameter\n",
        "# Type your response below this line\n"
      ]
    },
    {
      "cell_type": "markdown",
      "metadata": {
        "cell_id": "0e7ef47d40524610b5a7d887478ea51d",
        "deepnote_cell_type": "markdown",
        "id": "ASagAcz2Y9ul",
        "tags": []
      },
      "source": [
        "**Question 4.3 -** Use the `summary` command to find the $R^2$ value of your linear model."
      ]
    },
    {
      "cell_type": "code",
      "execution_count": null,
      "metadata": {
        "cell_id": "c14ade2df001412c90db7df541b84c6f",
        "deepnote_cell_type": "code",
        "deepnote_to_be_reexecuted": true,
        "execution_millis": 9,
        "execution_start": 1683315473183,
        "id": "Q41BpFoaY9ul",
        "output_cleared": false,
        "source_hash": "16d287ea",
        "tags": [],
        "vscode": {
          "languageId": "r"
        }
      },
      "outputs": [],
      "source": [
        "## R-squared for Age ~ Diameter\n",
        "# Type your response below this line\n"
      ]
    },
    {
      "cell_type": "markdown",
      "metadata": {
        "cell_id": "81b33c5236dc42feae785cf1b3f8085f",
        "deepnote_cell_type": "markdown",
        "id": "Mn9U8ibGY9ul",
        "tags": []
      },
      "source": [
        "**Question 4.4 -** When attempting to predict the age of a crab, farmers will record various measurements. Is this reasonable or is it unecessary? Justify your answers using the $R^2$ values for the `length_model` and `diameter_model`."
      ]
    },
    {
      "cell_type": "markdown",
      "metadata": {
        "cell_id": "459418f2aa4b405792c6ce7f8fc30f34",
        "deepnote_cell_type": "markdown",
        "id": "NNWWrIhVY9ul",
        "tags": []
      },
      "source": [
        "**Double-click this cell to type your answer here:**"
      ]
    },
    {
      "cell_type": "markdown",
      "metadata": {
        "cell_id": "46942b52de6445f4a2746fedc43e9962",
        "deepnote_cell_type": "markdown",
        "id": "ngTMiKaBY9ul"
      },
      "source": [
        "### 5.0 - Motivating Multiple Regression"
      ]
    },
    {
      "cell_type": "markdown",
      "metadata": {
        "cell_id": "3e220d4e4ff243a19a6121831b11c729",
        "deepnote_cell_type": "markdown",
        "id": "Mtwz89rfY9ul"
      },
      "source": [
        "The scatterplots we created had rows of points with the same age for different values of `Length` and `Diamter`. Is there something going on here that we are missing?\n",
        "\n",
        "Below is the scatterplot for `Age` and `Length`, color coded using `Diameter`."
      ]
    },
    {
      "cell_type": "code",
      "execution_count": null,
      "metadata": {
        "cell_id": "fb8e32517eb844f4ac22acb0534addf8",
        "deepnote_cell_type": "code",
        "deepnote_to_be_reexecuted": true,
        "execution_millis": 1386,
        "execution_start": 1683238020048,
        "id": "d5xmz6MCY9ul",
        "source_hash": "677f0fe2",
        "vscode": {
          "languageId": "r"
        }
      },
      "outputs": [],
      "source": [
        "## Run this code but do not edit it\n",
        "# Show scatter for Age ~ Length, color by Diameter\n",
        "gf_point(Age ~ Length, color = ~Diameter, data = dat)"
      ]
    },
    {
      "cell_type": "markdown",
      "metadata": {
        "cell_id": "ec69c6872872434c871e9d386d733834",
        "deepnote_cell_type": "markdown",
        "id": "FaoKgHtDY9ul"
      },
      "source": [
        "**Question 5.1 -** Look at the bottom-left corner of the graph. These are crabs that are not long (length lees than about 0.6 cm). Describe the diameters for these crabs."
      ]
    },
    {
      "cell_type": "markdown",
      "metadata": {
        "cell_id": "ebeddcc6cd34437b85aab46d0f8ede0c",
        "deepnote_cell_type": "markdown",
        "id": "vww66gLyY9ul"
      },
      "source": [
        "**Double-click this cell to type your answer here:**"
      ]
    },
    {
      "cell_type": "markdown",
      "metadata": {
        "cell_id": "88adb0ad816d48f79cb84956d5c5824b",
        "deepnote_cell_type": "markdown",
        "id": "XI53FZO0Y9ul"
      },
      "source": [
        "So far, we have only been working with simple linear regressions: models that use one predictor variable (`Length`) to predict the outcome variables (`Age`). If we'd like to use multiple predictor variables at once in order to model our outcome, we can use a technique called **multiple regression**.\n",
        "\n",
        "For example, imagine we want to use **both** `Length` ($x_{1}$) and `Diameter` ($x_{2}$) to predict `Age` ($y$). We can write a new model with multiple predictors, like this:\n",
        "\n",
        "$$\n",
        "\\hat{y} = \\theta_{0} + \\theta_{1}x_{1} + \\theta_{2}x_{2}\n",
        "$$\n",
        "Where:\n",
        "- $\\hat{y}$ is the predicted `Age`\n",
        "- $x_{1}$ is the `Length`\n",
        "- $x_{2}$ is the `Diameter`\n",
        "\n",
        "This means that...\n",
        "- $\\theta_{1}$ is the slope for `Length` --> the slope between `Age` and `Length`, controlling for all other predictors\n",
        "- $\\theta_{2}$ is the slope for `Diameter` --> the slope between `Age` and `Diameter`, controlling for all other predictors\n",
        "- $\\theta_{0}$ is the y-intercept --> the predicted $y-$value when $x_{1} = 0$ and $x_{2} = 0$ (when `Length` and `Diameter` are both 0)\n",
        "\n",
        "Let's go ahead and fit this model, so we can understand what this all really means. The R code for multiple regression is quite simple. If we want to use multiple predictors within our model (such as `Length` and `Diameter`), we simply include both of them in our `lm` command. See below:"
      ]
    },
    {
      "cell_type": "code",
      "execution_count": null,
      "metadata": {
        "cell_id": "99190e3beadc4f009f3c29a384463d98",
        "deepnote_cell_type": "code",
        "deepnote_to_be_reexecuted": true,
        "execution_millis": 4,
        "execution_start": 1683238021433,
        "id": "iAHd_NFEY9ul",
        "source_hash": "b310ddc0",
        "vscode": {
          "languageId": "r"
        }
      },
      "outputs": [],
      "source": [
        "## Run this code but do not edit it\n",
        "# Fit multiple regression: Age ~ Length + Diameter\n",
        "length_diameter_model <- lm(Age ~ Length + Diameter, data = dat)\n",
        "length_diameter_model"
      ]
    },
    {
      "cell_type": "markdown",
      "metadata": {
        "cell_id": "f99b856dea13414cbcab7675510541c6",
        "deepnote_cell_type": "markdown",
        "id": "X5bAcEmnY9um"
      },
      "source": [
        "As you can see, the values have changed a bit, and an extra slope term has now appeared in our model. We can plug these values into our model like so:\n",
        "\n",
        "$$\n",
        "\\hat{y} = 2.771 + (-4.533)x_{1} + (12.859)x_{2}\n",
        "$$\n",
        "\n",
        "Here's how we can interpret the slopes in our model:\n",
        "- $\\theta_{1} = -4.533$ --> For every 1 cm increase in `Length`, we expect a 4.5 month **decrease** in `Age`, controlling for `Diameter`\n",
        "- $\\theta_{2} = 12.859$ -->  For every 1 cm increase in `Diameter`, we expect a 12.859 month **increase** in `Age`, controlling for `Length`\n",
        "\n",
        "\n",
        "The key is that multiple regression allows you to **control for other predictors**, which helps us **eliminate confounding**. When we can control for diameter - i.e. when comparing crabs with similar diameter - we see that length is now **negatively** related to age. In other words, for crabs with similar diameters, we wouldn't necessarily expect the ones that are longer to be older.\n",
        "\n",
        "So, the age of a crab is, in fact, is not positively associated with its length - as long as we're comparing crabs with similar diameters. Including diameter in our model allows us to see the underlying negative relationship between length and the age of the crab.\n",
        "\n",
        "By contrast, we see that diameter is still positively associated with age (just not as much). The $\\theta_{2}$ value (12.859) shows that, even when comparing crabs with similar lengths, the crabs with larger diameter measures will tend to be older. If we return to our graph from earlier, we can see this trend:"
      ]
    },
    {
      "cell_type": "code",
      "execution_count": null,
      "metadata": {
        "cell_id": "0dabe4e9892f45a2b8230689f158798b",
        "deepnote_cell_type": "code",
        "deepnote_to_be_reexecuted": true,
        "execution_millis": 1142,
        "execution_start": 1683238021434,
        "id": "GM76JF1dY9um",
        "source_hash": "df1c2c20",
        "vscode": {
          "languageId": "r"
        }
      },
      "outputs": [],
      "source": [
        "## Run this code but do not edit it\n",
        "# Show scatter for Age ~ Diameter, color by Length\n",
        "gf_point(Age ~ Length, color = ~Diameter, data = dat)"
      ]
    },
    {
      "cell_type": "markdown",
      "metadata": {
        "cell_id": "ff1efff88a6a46e8bc61d1163e4f7927",
        "deepnote_cell_type": "markdown",
        "id": "ImVQ-h8PY9um"
      },
      "source": [
        "Our multiple regression model found that, when controlling for diameter, age is negatively associated with length. One way to visually \"control for diameter\" is to only look at crabs with similar diameter measures. For example, only looking at crabs with a diamter of about 1 cm, does length appear to be negatively associated with age?\n",
        "\n",
        "Let's explore.\n",
        "\n",
        "First we will subset our data to find all the crabs that have a diameter measure of 1 cm."
      ]
    },
    {
      "cell_type": "code",
      "execution_count": null,
      "metadata": {
        "cell_id": "34fe7e97737147fb85ab6cb2116fed91",
        "deepnote_cell_type": "code",
        "deepnote_to_be_reexecuted": true,
        "execution_millis": 6,
        "execution_start": 1683238022575,
        "id": "8E9mwlNXY9um",
        "source_hash": "fb274a69",
        "vscode": {
          "languageId": "r"
        }
      },
      "outputs": [],
      "source": [
        "## Run this code but do not edit it\n",
        "# Subset dat to only diameter measures that are equal to 1 cm\n",
        "diameter_1_dat <- dat %>% subset(Diameter == 1)\n",
        "head(diameter_1_dat)"
      ]
    },
    {
      "cell_type": "markdown",
      "metadata": {
        "cell_id": "91cf5a227a0e4c1382c520cee9cc2c3d",
        "deepnote_cell_type": "markdown",
        "id": "CLmXSNGVY9um"
      },
      "source": [
        "**Question 5.2 -** Use the `dim` command to see how many observations we have in our subset dataframe `diameter_1_dat`."
      ]
    },
    {
      "cell_type": "code",
      "execution_count": null,
      "metadata": {
        "cell_id": "71e406520cd645d08a2123e21540df0d",
        "deepnote_cell_type": "code",
        "deepnote_to_be_reexecuted": true,
        "execution_millis": 4,
        "execution_start": 1683238022578,
        "id": "w1_91d5eY9um",
        "source_hash": "be3d7b92",
        "vscode": {
          "languageId": "r"
        }
      },
      "outputs": [],
      "source": [
        "## Display the dimensions of a dataframe\n",
        "# Type your response below this line\n"
      ]
    },
    {
      "cell_type": "markdown",
      "metadata": {
        "cell_id": "d57b8509439846e2afdb02df46fd3e60",
        "deepnote_cell_type": "markdown",
        "id": "X0jIHku2Y9um"
      },
      "source": [
        "**Question 5.3 -** Use the `gf_point` command to visualize a linear regression model for predicting `Age` (outcome) using `Length` (predictor) from the `diameter_1_dat` dataframe."
      ]
    },
    {
      "cell_type": "code",
      "execution_count": null,
      "metadata": {
        "cell_id": "bcc20cf330e74d4fa6aa7fada3669a89",
        "deepnote_cell_type": "code",
        "deepnote_to_be_reexecuted": true,
        "execution_millis": 268,
        "execution_start": 1683238022581,
        "id": "Z0b1nHnwY9um",
        "source_hash": "b157341c",
        "vscode": {
          "languageId": "r"
        }
      },
      "outputs": [],
      "source": [
        "## Create scatterplot: Age ~ Length\n",
        "# Type your response below this line\n",
        "\n"
      ]
    },
    {
      "cell_type": "markdown",
      "metadata": {
        "cell_id": "aae21419003342e78fb477518ac2e481",
        "deepnote_cell_type": "markdown",
        "id": "ICFv-DpIY9um"
      },
      "source": [
        "**Question 5.4 -** Only looking at crabs with a diamter of about 1 cm, does length appear to be negatively associated with age? Explain."
      ]
    },
    {
      "cell_type": "markdown",
      "metadata": {
        "cell_id": "4c352331a8e2470a8c6faa50237e74fb",
        "deepnote_cell_type": "markdown",
        "id": "XgAD9_1gY9um"
      },
      "source": [
        "**Double-click this cell to type your answer here:**"
      ]
    },
    {
      "cell_type": "markdown",
      "metadata": {
        "cell_id": "0a59554d956547fbb443462642d7bcce",
        "deepnote_cell_type": "markdown",
        "id": "D-lmrPyhY9um"
      },
      "source": [
        "**Question 5.5 -** Mention other sigifcant features that are noticable in the scatterplot. For example, are there any outliers? If so, how would they affect the slope of the linear regression equation? Explain."
      ]
    },
    {
      "cell_type": "markdown",
      "metadata": {
        "cell_id": "6102a26ff45f4a3c9919e9efe56a196b",
        "deepnote_cell_type": "markdown",
        "id": "8r0rrcpFY9um"
      },
      "source": [
        "**Double-click this cell to type your answer here:**"
      ]
    },
    {
      "cell_type": "markdown",
      "metadata": {
        "cell_id": "5c4e07d9353f46219f816018f62046cf",
        "deepnote_cell_type": "markdown",
        "id": "NPL2GnvRY9um"
      },
      "source": [
        "**Question 5.6 -** Go ahead and create a scatterplot that visualizes the relationship between `Length` (predictor) and `Age` (outcome) for crabs whose diameter measures are 1 cm. Overlay a linear regression model on the graph."
      ]
    },
    {
      "cell_type": "code",
      "execution_count": null,
      "metadata": {
        "cell_id": "8392016795fa417da4f9755dec23d195",
        "deepnote_cell_type": "code",
        "deepnote_to_be_reexecuted": true,
        "execution_millis": 573,
        "execution_start": 1683238022850,
        "id": "FAcejonsY9um",
        "source_hash": "44720e05",
        "vscode": {
          "languageId": "r"
        }
      },
      "outputs": [],
      "source": [
        "## Run this code but do not edit it\n",
        "# Overlay linear model of Age ~ Length on top of scatterplot\n",
        "gf_point(Age ~ Length, data = diameter_1_dat) %>% gf_lm(color = \"red\")"
      ]
    },
    {
      "cell_type": "markdown",
      "metadata": {
        "cell_id": "ec51289e837c4cdabacb6ae533fa183d",
        "deepnote_cell_type": "markdown",
        "id": "CW4I1MIcY9um"
      },
      "source": [
        "**Question 5.7 -** Use the `lm` command to find the linear regression model you visualized above. Store the model in an object called `diameter_1_length_model`."
      ]
    },
    {
      "cell_type": "code",
      "execution_count": null,
      "metadata": {
        "cell_id": "391c516237594a67ad3033b8b97c2601",
        "deepnote_cell_type": "code",
        "deepnote_to_be_reexecuted": true,
        "execution_millis": 19,
        "execution_start": 1683238023426,
        "id": "mVjRVHeLY9um",
        "source_hash": "ee3442e",
        "vscode": {
          "languageId": "r"
        }
      },
      "outputs": [],
      "source": [
        "## Linear model for Age ~ Length\n",
        "# Type your response below this line\n"
      ]
    },
    {
      "cell_type": "markdown",
      "metadata": {
        "cell_id": "78b5f407bd764de392b90391925f6058",
        "deepnote_cell_type": "markdown",
        "id": "uBrW6cxzY9um"
      },
      "source": [
        "**Question 5.8 -** Use the `summary` command to find the $R^2$ value of your linear model."
      ]
    },
    {
      "cell_type": "code",
      "execution_count": null,
      "metadata": {
        "cell_id": "a3e86d40f49f4624962528a120907178",
        "deepnote_cell_type": "code",
        "deepnote_to_be_reexecuted": true,
        "execution_millis": 23,
        "execution_start": 1683238023447,
        "id": "yGbyBB-9Y9um",
        "source_hash": "d50b71a",
        "vscode": {
          "languageId": "r"
        }
      },
      "outputs": [],
      "source": [
        "## R-squared for Age ~ Length\n",
        "# Type your response below this line\n"
      ]
    },
    {
      "cell_type": "markdown",
      "metadata": {
        "cell_id": "25da03bc6f924d54a55cd0dc0f04803d",
        "deepnote_cell_type": "markdown",
        "id": "fa6k2udeY9um"
      },
      "source": [
        "**Question 5.9 -** What is the $R^2$ values for the `diameter_1_length_model`? Interpret the meaning of the value in context."
      ]
    },
    {
      "cell_type": "markdown",
      "metadata": {
        "cell_id": "a3c95b2393b04b43b94654838031bf13",
        "deepnote_cell_type": "markdown",
        "id": "9W0ezoCiY9um"
      },
      "source": [
        "**Double-click this cell to type your answer here:**"
      ]
    },
    {
      "cell_type": "markdown",
      "metadata": {
        "cell_id": "2ffa93cbd5284c3e984c53af0e63a2d5",
        "deepnote_cell_type": "markdown",
        "id": "wwQST_3TY9um"
      },
      "source": [
        "###  6.0 - Model Selection"
      ]
    },
    {
      "cell_type": "markdown",
      "metadata": {
        "cell_id": "ca67295dc2744bb0a2102fe64b3a3e49",
        "deepnote_cell_type": "markdown",
        "id": "9FYR9Ll4Y9um"
      },
      "source": [
        "Model selection is the process of selecting one final model from among a collection of candidate models for dataset. As we have seen, fitting different models is relatively straightforward. All models have some error,therefore, the idea of a perfect or best model is not useful. Instead, we should think about a model that is \"good enough\".\n",
        "\n",
        "The concepts involved in model selection are beyond the scope of this course. For now, let's stick to using R-squared as the measure for judging between models. Run the cell below to compare the R-squared values for each of our models.\n"
      ]
    },
    {
      "cell_type": "code",
      "execution_count": null,
      "metadata": {
        "cell_id": "e15cd01fde37495abfbd8d101cd12b6f",
        "deepnote_cell_type": "code",
        "deepnote_to_be_reexecuted": true,
        "execution_millis": 1,
        "execution_start": 1683238023504,
        "id": "9pzClaH6Y9um",
        "source_hash": "bfe59f51",
        "vscode": {
          "languageId": "r"
        }
      },
      "outputs": [],
      "source": [
        "## Run this code but do not edit it\n",
        "# Print the R-squared value for each model\n",
        "print(paste(\"The r-squared value for the length only model is\", summary(length_model)$r.squared))\n",
        "print(paste(\"The r-squared value for the diameter only model is\", summary(diameter_model)$r.squared))\n",
        "print(paste(\"The r-squared value for the length and diameter model is\", summary(length_diameter_model)$r.squared))"
      ]
    },
    {
      "cell_type": "markdown",
      "metadata": {
        "cell_id": "a34147bc5c974bdba64ae7569e0fec6a",
        "deepnote_cell_type": "markdown",
        "id": "Rj1r-djGY9um"
      },
      "source": [
        "**6.1 -** Compare each model, then choose the model that you think is \"good enough\". Explain your choice based on the R-squared value and the context of what a crab farmer may or may not do on a regular basis."
      ]
    },
    {
      "cell_type": "markdown",
      "metadata": {
        "cell_id": "addcf148984e4e8b96f18feacac15602",
        "deepnote_cell_type": "markdown",
        "id": "rWdsERUJY9un"
      },
      "source": [
        "**Double-click this cell to type your answer here:**"
      ]
    }
  ],
  "metadata": {
    "colab": {
      "provenance": []
    },
    "deepnote": {},
    "deepnote_execution_queue": [],
    "deepnote_notebook_id": "caae3d6035844a3698a7c7b77ae9057a",
    "kernelspec": {
      "display_name": "R",
      "name": "ir"
    },
    "language_info": {
      "name": "R"
    },
    "orig_nbformat": 2
  },
  "nbformat": 4,
  "nbformat_minor": 0
}
